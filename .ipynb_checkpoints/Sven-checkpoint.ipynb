{
 "cells": [
  {
   "cell_type": "code",
   "execution_count": 420,
   "metadata": {},
   "outputs": [],
   "source": [
    "# Hi sven"
   ]
  },
  {
   "cell_type": "code",
   "execution_count": 28,
   "metadata": {},
   "outputs": [],
   "source": [
    "import numpy as np\n",
    "import numba as nb\n",
    "from scipy.stats import maxwell\n",
    "import matplotlib.pyplot as plt\n",
    "import matplotlib.animation as animation\n",
    "from copy import copy\n",
    "from matplotlib.widgets import Slider\n",
    "from mpl_toolkits.axes_grid1 import make_axes_locatable\n",
    "from tqdm import tqdm\n",
    "from scipy.spatial import distance\n",
    "\n",
    "\n",
    "# Periodic boundary conditions\n",
    "# Rabbits are field with positions, velocities, awareness radius.\n",
    "NVAR = 5\n",
    "PVAR = NVAR-1\n",
    "N = 50\n",
    "R = 0.15\n",
    "GA = 0.2\n",
    "RA = 10\n",
    "PA = 1/30\n",
    "dt = 0.01\n",
    "ms = 5\n",
    "PRED_NOISE = 0.02\n",
    "RADIUS_PRED = 0.2\n",
    "Niterations = 100\n",
    "MAX_SPEED = 0.01/dt\n",
    "PRED_SPEED = MAX_SPEED #NEW\n",
    "DECAY_RATE = 0.995"
   ]
  },
  {
   "cell_type": "code",
   "execution_count": 29,
   "metadata": {},
   "outputs": [],
   "source": [
    "def init_rabbits(N, NVAR):\n",
    "    # Velocities and positions\n",
    "    rabbits = np.zeros((N, NVAR))\n",
    "\n",
    "    positions = np.random.rand(N, 2)\n",
    "    rabbits[:, 0:2] = positions\n",
    "    \n",
    "    velocities = 0#T * (np.random.rand(N, 2) - 1/2)\n",
    "    rabbits[:, 2:4] = velocities\n",
    "    \n",
    "    return rabbits\n",
    "\n",
    "def init_nn_array(N):\n",
    "    return np.zeros((N, N - 1))\n",
    "\n",
    "def get_rn_noise(amplitude,rabbits):\n",
    "    \n",
    "    # Random walk\n",
    "    N = len(rabbits)\n",
    "    perturbation = amplitude * (np.random.rand(N, 2) - 0.5)\n",
    "    return perturbation"
   ]
  },
  {
   "cell_type": "code",
   "execution_count": 30,
   "metadata": {},
   "outputs": [],
   "source": [
    "def closest_node(node, nodes):\n",
    "    \"\"\"https://codereview.stackexchange.com/questions/28207/finding-the-closest-point-to-a-list-of-points\"\"\"\n",
    "    return distance.cdist([[0,0]], nodes[:,:2]-node[:2]).argmin()\n",
    "\n",
    "def get_closest_other(rabbits,predators):\n",
    "    \"\"\"Get closest rabbit-predator pair\"\"\"\n",
    "    return np.apply_along_axis(closest_node, 1, rabbits, predators)"
   ]
  },
  {
   "cell_type": "code",
   "execution_count": 31,
   "metadata": {},
   "outputs": [],
   "source": [
    "def init_predators(N,PVAR):\n",
    "    # Velocities and positions\n",
    "    predators = np.zeros((N, PVAR))\n",
    "\n",
    "    positions = np.random.rand(N, 2)\n",
    "    predators[:, 0:2] = positions\n",
    "    \n",
    "    velocities = np.random.rand(N, 2)-1/2\n",
    "    predators[:, 2:4] = velocities\n",
    "    return predators"
   ]
  },
  {
   "cell_type": "code",
   "execution_count": 50,
   "metadata": {},
   "outputs": [],
   "source": [
    "def predator_force(zero, locations, RADIUS_PRED, PA):    \n",
    "    distances_x = zero[0] - locations[:, 0]#np.apply_along_axis(np.linalg.norm, 0, locations[:,0]-zero[0])\n",
    "    distances_y = zero[1] - locations[:, 1]#np.apply_along_axis(np.linalg.norm, 0, locations[:,1]-zero[1])\n",
    "\n",
    "    mask = distances_x**2 + distances_y**2 > RADIUS_PRED**2\n",
    "    distances_x[mask] = np.inf\n",
    "    distances_y[mask] = np.inf\n",
    "    \n",
    "    distances = np.array([distances_x,distances_y])\n",
    "    \n",
    "    return PA/distances\n",
    "\n",
    "def get_predators_force(rabbits, predators, PA):\n",
    "    return np.apply_along_axis(predator_force, 1, rabbits, predators.copy(), RADIUS_PRED,PA)"
   ]
  },
  {
   "cell_type": "code",
   "execution_count": 51,
   "metadata": {},
   "outputs": [
    {
     "data": {
      "text/plain": [
       "((50, 5), (1, 4))"
      ]
     },
     "execution_count": 51,
     "metadata": {},
     "output_type": "execute_result"
    }
   ],
   "source": [
    "rabbits = init_rabbits(N, NVAR)\n",
    "predators = init_predators(1,PVAR)\n",
    "rabbits.shape, predators.shape"
   ]
  },
  {
   "cell_type": "code",
   "execution_count": 52,
   "metadata": {},
   "outputs": [
    {
     "data": {
      "text/plain": [
       "(50, 2, 1)"
      ]
     },
     "execution_count": 52,
     "metadata": {},
     "output_type": "execute_result"
    }
   ],
   "source": [
    "get_predators_force(rabbits,predators, PA).shape"
   ]
  },
  {
   "cell_type": "code",
   "execution_count": 53,
   "metadata": {},
   "outputs": [],
   "source": [
    "def update_velocities(rabbits, predators, dt,nn_array,combination_array,nn_indices):\n",
    "    # Rabbits\n",
    "    nn_array,combination_array,nn_indices = get_nn(rabbits, R,nn_array,combination_array,nn_indices)\n",
    "    group_force = get_group_influence(GA, nn_array, rabbits)\n",
    "    perturbation = get_rn_noise(RA,rabbits)\n",
    "    predators_force = get_predators_force(rabbits, predators, PA)\n",
    "    rabbits[:, 2:4] += dt * (group_force + perturbation - predators_force) \n",
    "    rabbits[:, 2:4] *= DECAY_RATE\n",
    "\n",
    "    for rabbit in rabbits:\n",
    "        v = np.linalg.norm(rabbit[2:4])\n",
    "        if v > MAX_SPEED:\n",
    "            rabbit[2:4] = rabbit[2:4] * MAX_SPEED/ v\n",
    "    \n",
    "    # Predator\n",
    "    closest_rabbits = get_closest_other(predators,rabbits) #IDK how to normalize properly\n",
    "    predators[:, 2:4] = PRED_SPEED*((rabbits[closest_rabbits][:,:2]-predators[:, :2])/\n",
    "                                    np.linalg.norm((rabbits[closest_rabbits][:,:2]-predators[:, :2]),axis=1)[:,None]**2)\n",
    "    predators[:, 2:4] += PRED_NOISE * (np.random.rand(2) - 0.5)\n",
    "    \n",
    "    for pred in predators:\n",
    "        v = np.linalg.norm(pred[2:4])\n",
    "        if v > MAX_SPEED:\n",
    "            pred[2:4] = pred[2:4] * MAX_SPEED/ v\n",
    "    \n",
    "    return rabbits, predators, nn_array,combination_array,nn_indices\n",
    "\n",
    "def step(rabbits, predators, dt,nn_array,combination_array,nn_indices):\n",
    "    rabbits, predators, nn_array, combination_array, nn_indices = update_velocities(rabbits, predators, \n",
    "                                                                                    dt,nn_array, combination_array,nn_indices)\n",
    "    \n",
    "    rabbits[:, 0] = (rabbits[:, 0] + dt * rabbits[:, 2]) % 1\n",
    "    rabbits[:, 1] = (rabbits[:, 1] + dt * rabbits[:, 3]) % 1\n",
    "\n",
    "    predators[:, 0] = (predators[:, 0] + dt * predators[:, 2]) % 1\n",
    "    predators[:, 1] = (predators[:, 1] + dt * predators[:, 3]) % 1\n",
    "\n",
    "    return rabbits, predators\n",
    "\n",
    "def get_nn(rabbits, r,nn_array,combination_array,nn_indices):\n",
    "    \"\"\"\n",
    "    Returns array nn_indices, where the N-th elements contains the indices of the N-th rabbit\n",
    "    \n",
    "    shape nn_indices = N\n",
    "    \"\"\"\n",
    "    \n",
    "    # Clean arrays\n",
    "    nn_array[:, :] = -1\n",
    "    combination_array[:, :] = 0\n",
    "    nn_indices[:] = 0\n",
    "    \n",
    "    # For loop has O(N^@)\n",
    "    for i, rabbit in enumerate(rabbits):\n",
    "        for j, rabbit_n in enumerate(rabbits):\n",
    "            # Remove self-interaction\n",
    "            if i != j:\n",
    "                # Remove redundant calculations\n",
    "                if combination_array[i, j] != 1:\n",
    "                    combination_array[i, j] = 1\n",
    "                    combination_array[j , i] = 1\n",
    "                    # Possible new swarm interaction\n",
    "                    d = np.linalg.norm(rabbit[0:2] - rabbit_n[0:2])\n",
    "                    if d < r:\n",
    "                        nn_array[i, nn_indices[i], 0] = j\n",
    "                        nn_array[j, nn_indices[j], 0] = i\n",
    "                        nn_array[i, nn_indices[i], 1] = d\n",
    "                        nn_array[j, nn_indices[j], 1] = d\n",
    "                        nn_indices[i] += 1\n",
    "                        nn_indices[j] += 1\n",
    "                        \n",
    "    return nn_array,combination_array,nn_indices\n",
    "\n",
    "#@nb.njit\n",
    "def get_group_influence(amplitude, nn,rabbits ):\n",
    "    \"\"\"Given the nearest neighbor array, calculates the swarm influence \n",
    "\n",
    "    Parameters\n",
    "    ----------\n",
    "    rabits : float array\n",
    "        Array containing all values of positions and velocities of the rabbits.\n",
    "    nn_array : int, float array\n",
    "        Array where N-th elements contains the indices combined with distances to nearest neighbors.\n",
    "\n",
    "    Returns\n",
    "    -------\n",
    "    float array\n",
    "        N, 2 float array which describes the force caused by the group\n",
    "    \"\"\"\n",
    "    \n",
    "    # TODO Add weighted sums (closer neighbors have more influence)\n",
    "    #total_weights = np.zeros((N))\n",
    "    \n",
    "    \n",
    "    group_velocities = np.zeros((N, 2))\n",
    "    \n",
    "    # Collect weights\n",
    "    #for i, rabbit in enumerate(nn):\n",
    "    #    total_weights[i] = np.sum(rabbit[:, 0])\n",
    "    \n",
    "    temp_vel = np.zeros((2))\n",
    "    # Calculate the average velocity vector of neighbors weighed proportionally to their distance\n",
    "    for i, rabbit in enumerate(nn):\n",
    "        # No neighbors\n",
    "        #if total_weights[i] == 0:\n",
    "            #break\n",
    "        \n",
    "        temp_vel[:] = 0\n",
    "        for neighbor in rabbit:\n",
    "            if neighbor[0] == -1:\n",
    "                break\n",
    "            else:\n",
    "                # Neighbor 0 is index\n",
    "                # Neighbor 1 is distance\n",
    "                temp_vel += rabbits[neighbor[0], 2:4]\n",
    "        #temp_vel /= total_weights[i]\n",
    "        # TODO MIGHT NEED TO ADD COPY AGAIN\n",
    "        group_velocities[i] = temp_vel\n",
    "        temp_vel[:] = 0\n",
    "        \n",
    "    return amplitude * group_velocities          "
   ]
  },
  {
   "cell_type": "code",
   "execution_count": 54,
   "metadata": {},
   "outputs": [],
   "source": [
    "def run(N, N_P, NVAR, PVAR, Niterations):\n",
    "    rabbits = init_rabbits(N, NVAR)\n",
    "    predators = init_predators(N_P, PVAR)\n",
    "    nn_array = np.zeros((N, N, 2), dtype = np.int)\n",
    "    combination_array = np.zeros((N, N), dtype = np.int)\n",
    "    nn_indices = np.zeros((N), dtype = np.int)\n",
    "    \n",
    "    data_rabbits = np.zeros((Niterations, N, NVAR))\n",
    "    data_predators = np.zeros((Niterations, N_P, PVAR))\n",
    "    \n",
    "    data_rabbits[0,:,:] = rabbits.copy()\n",
    "    data_predators[0,:,:] = predators.copy()\n",
    "    \n",
    "    for i in range(1,Niterations):\n",
    "        rabbits, predators = step(rabbits, predators, dt,nn_array,combination_array,nn_indices)\n",
    "        data_rabbits[i,:,:] = rabbits.copy()\n",
    "        data_predators[i,:,:] = predators.copy()\n",
    "        if data_rabbits[i-1,0,0] == rabbits[0,0]:\n",
    "            print(\"Kutzooi\")\n",
    "    return data_rabbits, data_predators"
   ]
  },
  {
   "cell_type": "code",
   "execution_count": 55,
   "metadata": {},
   "outputs": [],
   "source": [
    "def runs(N, N_P, NVAR, PVAR, Niterations, runs):\n",
    "    data_rabbits = np.zeros((runs,Niterations,N, NVAR))\n",
    "    data_predators = np.zeros((runs,Niterations,N_P, PVAR))\n",
    "    \n",
    "    for i in tqdm(range(runs)):\n",
    "        rabbits, predators = run(N, N_P, NVAR, PVAR, Niterations)\n",
    "        data_rabbits[i, :, :, :] = rabbits.copy()\n",
    "        data_predators[i, :, :, :] = predators.copy()\n",
    "    np.save(\"runs/{}_{}_{}_{}_rabbits.npy\".format(N, N_P, Niterations, runs), data_rabbits)\n",
    "    np.save(\"runs/{}_{}_{}_{}_pred.npy\".format(N, N_P, Niterations, runs), data_predators)\n",
    "    return data_rabbits, data_predators"
   ]
  },
  {
   "cell_type": "code",
   "execution_count": 56,
   "metadata": {
    "scrolled": true
   },
   "outputs": [],
   "source": [
    "# for i in range(1,N):\n",
    "#     np.random.seed(i)\n",
    "#     runs(N, i, NVAR, PVAR, Niterations, 50)"
   ]
  },
  {
   "cell_type": "code",
   "execution_count": 57,
   "metadata": {},
   "outputs": [],
   "source": [
    "stds = np.zeros(N-1)\n",
    "means = np.zeros(N-1)\n",
    "for i in range(1,N):\n",
    "    rab = np.load(\"runs/{}_{}_{}_{}_rabbits.npy\".format(N, 1, Niterations, 50))\n",
    "    stds[i-1] = np.std(rab[:,-1,:],ddof=1)\n",
    "    means[i-1] = np.mean(rab[:,-1,:])"
   ]
  },
  {
   "cell_type": "code",
   "execution_count": 58,
   "metadata": {},
   "outputs": [
    {
     "data": {
      "text/plain": [
       "[<matplotlib.lines.Line2D at 0x1c1036e4be0>]"
      ]
     },
     "execution_count": 58,
     "metadata": {},
     "output_type": "execute_result"
    },
    {
     "data": {
      "image/png": "[encoded data removed]",
      "text/plain": [
       "<Figure size 432x288 with 1 Axes>"
      ]
     },
     "metadata": {
      "needs_background": "light"
     },
     "output_type": "display_data"
    }
   ],
   "source": [
    "plt.plot(np.arange(1,N),stds)"
   ]
  },
  {
   "cell_type": "code",
   "execution_count": 59,
   "metadata": {},
   "outputs": [
    {
     "data": {
      "text/plain": [
       "[<matplotlib.lines.Line2D at 0x1c1037335e0>]"
      ]
     },
     "execution_count": 59,
     "metadata": {},
     "output_type": "execute_result"
    },
    {
     "data": {
      "image/png": "[encoded data removed]",
      "text/plain": [
       "<Figure size 432x288 with 1 Axes>"
      ]
     },
     "metadata": {
      "needs_background": "light"
     },
     "output_type": "display_data"
    }
   ],
   "source": [
    "plt.plot(np.arange(1,N),means)"
   ]
  },
  {
   "cell_type": "code",
   "execution_count": 60,
   "metadata": {},
   "outputs": [
    {
     "name": "stderr",
     "output_type": "stream",
     "text": [
      "  0%|                                                                                                                                                                                                                            | 0/50 [00:00<?, ?it/s]\n"
     ]
    },
    {
     "ename": "ValueError",
     "evalue": "operands could not be broadcast together with shapes (50,2) (50,2,1) ",
     "output_type": "error",
     "traceback": [
      "\u001b[1;31m---------------------------------------------------------------------------\u001b[0m",
      "\u001b[1;31mValueError\u001b[0m                                Traceback (most recent call last)",
      "\u001b[1;32m<ipython-input-60-1bf01752ec12>\u001b[0m in \u001b[0;36m<module>\u001b[1;34m\u001b[0m\n\u001b[1;32m----> 1\u001b[1;33m \u001b[0mdata_rab\u001b[0m\u001b[1;33m,\u001b[0m \u001b[0mdata_pred\u001b[0m \u001b[1;33m=\u001b[0m \u001b[0mruns\u001b[0m\u001b[1;33m(\u001b[0m\u001b[0mN\u001b[0m\u001b[1;33m,\u001b[0m \u001b[1;36m1\u001b[0m\u001b[1;33m,\u001b[0m \u001b[0mNVAR\u001b[0m\u001b[1;33m,\u001b[0m \u001b[0mPVAR\u001b[0m\u001b[1;33m,\u001b[0m \u001b[0mNiterations\u001b[0m\u001b[1;33m,\u001b[0m \u001b[1;36m50\u001b[0m\u001b[1;33m)\u001b[0m\u001b[1;33m\u001b[0m\u001b[1;33m\u001b[0m\u001b[0m\n\u001b[0m",
      "\u001b[1;32m<ipython-input-55-769ebad1d16c>\u001b[0m in \u001b[0;36mruns\u001b[1;34m(N, N_P, NVAR, PVAR, Niterations, runs)\u001b[0m\n\u001b[0;32m      4\u001b[0m \u001b[1;33m\u001b[0m\u001b[0m\n\u001b[0;32m      5\u001b[0m     \u001b[1;32mfor\u001b[0m \u001b[0mi\u001b[0m \u001b[1;32min\u001b[0m \u001b[0mtqdm\u001b[0m\u001b[1;33m(\u001b[0m\u001b[0mrange\u001b[0m\u001b[1;33m(\u001b[0m\u001b[0mruns\u001b[0m\u001b[1;33m)\u001b[0m\u001b[1;33m)\u001b[0m\u001b[1;33m:\u001b[0m\u001b[1;33m\u001b[0m\u001b[1;33m\u001b[0m\u001b[0m\n\u001b[1;32m----> 6\u001b[1;33m         \u001b[0mrabbits\u001b[0m\u001b[1;33m,\u001b[0m \u001b[0mpredators\u001b[0m \u001b[1;33m=\u001b[0m \u001b[0mrun\u001b[0m\u001b[1;33m(\u001b[0m\u001b[0mN\u001b[0m\u001b[1;33m,\u001b[0m \u001b[0mN_P\u001b[0m\u001b[1;33m,\u001b[0m \u001b[0mNVAR\u001b[0m\u001b[1;33m,\u001b[0m \u001b[0mPVAR\u001b[0m\u001b[1;33m,\u001b[0m \u001b[0mNiterations\u001b[0m\u001b[1;33m)\u001b[0m\u001b[1;33m\u001b[0m\u001b[1;33m\u001b[0m\u001b[0m\n\u001b[0m\u001b[0;32m      7\u001b[0m         \u001b[0mdata_rabbits\u001b[0m\u001b[1;33m[\u001b[0m\u001b[0mi\u001b[0m\u001b[1;33m,\u001b[0m \u001b[1;33m:\u001b[0m\u001b[1;33m,\u001b[0m \u001b[1;33m:\u001b[0m\u001b[1;33m,\u001b[0m \u001b[1;33m:\u001b[0m\u001b[1;33m]\u001b[0m \u001b[1;33m=\u001b[0m \u001b[0mrabbits\u001b[0m\u001b[1;33m.\u001b[0m\u001b[0mcopy\u001b[0m\u001b[1;33m(\u001b[0m\u001b[1;33m)\u001b[0m\u001b[1;33m\u001b[0m\u001b[1;33m\u001b[0m\u001b[0m\n\u001b[0;32m      8\u001b[0m         \u001b[0mdata_predators\u001b[0m\u001b[1;33m[\u001b[0m\u001b[0mi\u001b[0m\u001b[1;33m,\u001b[0m \u001b[1;33m:\u001b[0m\u001b[1;33m,\u001b[0m \u001b[1;33m:\u001b[0m\u001b[1;33m,\u001b[0m \u001b[1;33m:\u001b[0m\u001b[1;33m]\u001b[0m \u001b[1;33m=\u001b[0m \u001b[0mpredators\u001b[0m\u001b[1;33m.\u001b[0m\u001b[0mcopy\u001b[0m\u001b[1;33m(\u001b[0m\u001b[1;33m)\u001b[0m\u001b[1;33m\u001b[0m\u001b[1;33m\u001b[0m\u001b[0m\n",
      "\u001b[1;32m<ipython-input-54-5baf58b26bad>\u001b[0m in \u001b[0;36mrun\u001b[1;34m(N, N_P, NVAR, PVAR, Niterations)\u001b[0m\n\u001b[0;32m     13\u001b[0m \u001b[1;33m\u001b[0m\u001b[0m\n\u001b[0;32m     14\u001b[0m     \u001b[1;32mfor\u001b[0m \u001b[0mi\u001b[0m \u001b[1;32min\u001b[0m \u001b[0mrange\u001b[0m\u001b[1;33m(\u001b[0m\u001b[1;36m1\u001b[0m\u001b[1;33m,\u001b[0m\u001b[0mNiterations\u001b[0m\u001b[1;33m)\u001b[0m\u001b[1;33m:\u001b[0m\u001b[1;33m\u001b[0m\u001b[1;33m\u001b[0m\u001b[0m\n\u001b[1;32m---> 15\u001b[1;33m         \u001b[0mrabbits\u001b[0m\u001b[1;33m,\u001b[0m \u001b[0mpredators\u001b[0m \u001b[1;33m=\u001b[0m \u001b[0mstep\u001b[0m\u001b[1;33m(\u001b[0m\u001b[0mrabbits\u001b[0m\u001b[1;33m,\u001b[0m \u001b[0mpredators\u001b[0m\u001b[1;33m,\u001b[0m \u001b[0mdt\u001b[0m\u001b[1;33m,\u001b[0m\u001b[0mnn_array\u001b[0m\u001b[1;33m,\u001b[0m\u001b[0mcombination_array\u001b[0m\u001b[1;33m,\u001b[0m\u001b[0mnn_indices\u001b[0m\u001b[1;33m)\u001b[0m\u001b[1;33m\u001b[0m\u001b[1;33m\u001b[0m\u001b[0m\n\u001b[0m\u001b[0;32m     16\u001b[0m         \u001b[0mdata_rabbits\u001b[0m\u001b[1;33m[\u001b[0m\u001b[0mi\u001b[0m\u001b[1;33m,\u001b[0m\u001b[1;33m:\u001b[0m\u001b[1;33m,\u001b[0m\u001b[1;33m:\u001b[0m\u001b[1;33m]\u001b[0m \u001b[1;33m=\u001b[0m \u001b[0mrabbits\u001b[0m\u001b[1;33m.\u001b[0m\u001b[0mcopy\u001b[0m\u001b[1;33m(\u001b[0m\u001b[1;33m)\u001b[0m\u001b[1;33m\u001b[0m\u001b[1;33m\u001b[0m\u001b[0m\n\u001b[0;32m     17\u001b[0m         \u001b[0mdata_predators\u001b[0m\u001b[1;33m[\u001b[0m\u001b[0mi\u001b[0m\u001b[1;33m,\u001b[0m\u001b[1;33m:\u001b[0m\u001b[1;33m,\u001b[0m\u001b[1;33m:\u001b[0m\u001b[1;33m]\u001b[0m \u001b[1;33m=\u001b[0m \u001b[0mpredators\u001b[0m\u001b[1;33m.\u001b[0m\u001b[0mcopy\u001b[0m\u001b[1;33m(\u001b[0m\u001b[1;33m)\u001b[0m\u001b[1;33m\u001b[0m\u001b[1;33m\u001b[0m\u001b[0m\n",
      "\u001b[1;32m<ipython-input-53-a77287d1f15b>\u001b[0m in \u001b[0;36mstep\u001b[1;34m(rabbits, predators, dt, nn_array, combination_array, nn_indices)\u001b[0m\n\u001b[0;32m     27\u001b[0m \u001b[1;33m\u001b[0m\u001b[0m\n\u001b[0;32m     28\u001b[0m \u001b[1;32mdef\u001b[0m \u001b[0mstep\u001b[0m\u001b[1;33m(\u001b[0m\u001b[0mrabbits\u001b[0m\u001b[1;33m,\u001b[0m \u001b[0mpredators\u001b[0m\u001b[1;33m,\u001b[0m \u001b[0mdt\u001b[0m\u001b[1;33m,\u001b[0m\u001b[0mnn_array\u001b[0m\u001b[1;33m,\u001b[0m\u001b[0mcombination_array\u001b[0m\u001b[1;33m,\u001b[0m\u001b[0mnn_indices\u001b[0m\u001b[1;33m)\u001b[0m\u001b[1;33m:\u001b[0m\u001b[1;33m\u001b[0m\u001b[1;33m\u001b[0m\u001b[0m\n\u001b[1;32m---> 29\u001b[1;33m     rabbits, predators, nn_array, combination_array, nn_indices = update_velocities(rabbits, predators, \n\u001b[0m\u001b[0;32m     30\u001b[0m                                                                                     dt,nn_array, combination_array,nn_indices)\n\u001b[0;32m     31\u001b[0m \u001b[1;33m\u001b[0m\u001b[0m\n",
      "\u001b[1;32m<ipython-input-53-a77287d1f15b>\u001b[0m in \u001b[0;36mupdate_velocities\u001b[1;34m(rabbits, predators, dt, nn_array, combination_array, nn_indices)\u001b[0m\n\u001b[0;32m      5\u001b[0m     \u001b[0mperturbation\u001b[0m \u001b[1;33m=\u001b[0m \u001b[0mget_rn_noise\u001b[0m\u001b[1;33m(\u001b[0m\u001b[0mRA\u001b[0m\u001b[1;33m,\u001b[0m\u001b[0mrabbits\u001b[0m\u001b[1;33m)\u001b[0m\u001b[1;33m\u001b[0m\u001b[1;33m\u001b[0m\u001b[0m\n\u001b[0;32m      6\u001b[0m     \u001b[0mpredators_force\u001b[0m \u001b[1;33m=\u001b[0m \u001b[0mget_predators_force\u001b[0m\u001b[1;33m(\u001b[0m\u001b[0mrabbits\u001b[0m\u001b[1;33m,\u001b[0m \u001b[0mpredators\u001b[0m\u001b[1;33m,\u001b[0m \u001b[0mPA\u001b[0m\u001b[1;33m)\u001b[0m\u001b[1;33m\u001b[0m\u001b[1;33m\u001b[0m\u001b[0m\n\u001b[1;32m----> 7\u001b[1;33m     \u001b[0mrabbits\u001b[0m\u001b[1;33m[\u001b[0m\u001b[1;33m:\u001b[0m\u001b[1;33m,\u001b[0m \u001b[1;36m2\u001b[0m\u001b[1;33m:\u001b[0m\u001b[1;36m4\u001b[0m\u001b[1;33m]\u001b[0m \u001b[1;33m+=\u001b[0m \u001b[0mdt\u001b[0m \u001b[1;33m*\u001b[0m \u001b[1;33m(\u001b[0m\u001b[0mgroup_force\u001b[0m \u001b[1;33m+\u001b[0m \u001b[0mperturbation\u001b[0m \u001b[1;33m-\u001b[0m \u001b[0mpredators_force\u001b[0m\u001b[1;33m)\u001b[0m\u001b[1;33m\u001b[0m\u001b[1;33m\u001b[0m\u001b[0m\n\u001b[0m\u001b[0;32m      8\u001b[0m     \u001b[0mrabbits\u001b[0m\u001b[1;33m[\u001b[0m\u001b[1;33m:\u001b[0m\u001b[1;33m,\u001b[0m \u001b[1;36m2\u001b[0m\u001b[1;33m:\u001b[0m\u001b[1;36m4\u001b[0m\u001b[1;33m]\u001b[0m \u001b[1;33m*=\u001b[0m \u001b[0mDECAY_RATE\u001b[0m\u001b[1;33m\u001b[0m\u001b[1;33m\u001b[0m\u001b[0m\n\u001b[0;32m      9\u001b[0m \u001b[1;33m\u001b[0m\u001b[0m\n",
      "\u001b[1;31mValueError\u001b[0m: operands could not be broadcast together with shapes (50,2) (50,2,1) "
     ]
    }
   ],
   "source": [
    "data_rab, data_pred = runs(N, 1, NVAR, PVAR, Niterations, 50)"
   ]
  },
  {
   "cell_type": "code",
   "execution_count": 43,
   "metadata": {},
   "outputs": [
    {
     "name": "stderr",
     "output_type": "stream",
     "text": [
      "<ipython-input-43-f34d7f1d5d99>:17: RuntimeWarning: divide by zero encountered in log\n",
      "  im = ax.imshow(np.log(data),cmap=\"hot\", origin=\"Bottom\", interpolation='none',extent=[bins[0],bins[-1],0,Niterations],aspect=\"auto\")\n"
     ]
    },
    {
     "ename": "ValueError",
     "evalue": "'Bottom' is not a valid value for origin; supported values are 'upper', 'lower'",
     "output_type": "error",
     "traceback": [
      "\u001b[1;31m---------------------------------------------------------------------------\u001b[0m",
      "\u001b[1;31mValueError\u001b[0m                                Traceback (most recent call last)",
      "\u001b[1;32m<ipython-input-43-f34d7f1d5d99>\u001b[0m in \u001b[0;36m<module>\u001b[1;34m\u001b[0m\n\u001b[0;32m     15\u001b[0m \u001b[1;33m\u001b[0m\u001b[0m\n\u001b[0;32m     16\u001b[0m \u001b[0mfig\u001b[0m\u001b[1;33m,\u001b[0m \u001b[0max\u001b[0m \u001b[1;33m=\u001b[0m \u001b[0mplt\u001b[0m\u001b[1;33m.\u001b[0m\u001b[0msubplots\u001b[0m\u001b[1;33m(\u001b[0m\u001b[0mfigsize\u001b[0m\u001b[1;33m=\u001b[0m\u001b[1;33m(\u001b[0m\u001b[1;36m6\u001b[0m\u001b[1;33m,\u001b[0m\u001b[1;36m6\u001b[0m\u001b[1;33m)\u001b[0m\u001b[1;33m)\u001b[0m\u001b[1;33m\u001b[0m\u001b[1;33m\u001b[0m\u001b[0m\n\u001b[1;32m---> 17\u001b[1;33m \u001b[0mim\u001b[0m \u001b[1;33m=\u001b[0m \u001b[0max\u001b[0m\u001b[1;33m.\u001b[0m\u001b[0mimshow\u001b[0m\u001b[1;33m(\u001b[0m\u001b[0mnp\u001b[0m\u001b[1;33m.\u001b[0m\u001b[0mlog\u001b[0m\u001b[1;33m(\u001b[0m\u001b[0mdata\u001b[0m\u001b[1;33m)\u001b[0m\u001b[1;33m,\u001b[0m\u001b[0mcmap\u001b[0m\u001b[1;33m=\u001b[0m\u001b[1;34m\"hot\"\u001b[0m\u001b[1;33m,\u001b[0m \u001b[0morigin\u001b[0m\u001b[1;33m=\u001b[0m\u001b[1;34m\"Bottom\"\u001b[0m\u001b[1;33m,\u001b[0m \u001b[0minterpolation\u001b[0m\u001b[1;33m=\u001b[0m\u001b[1;34m'none'\u001b[0m\u001b[1;33m,\u001b[0m\u001b[0mextent\u001b[0m\u001b[1;33m=\u001b[0m\u001b[1;33m[\u001b[0m\u001b[0mbins\u001b[0m\u001b[1;33m[\u001b[0m\u001b[1;36m0\u001b[0m\u001b[1;33m]\u001b[0m\u001b[1;33m,\u001b[0m\u001b[0mbins\u001b[0m\u001b[1;33m[\u001b[0m\u001b[1;33m-\u001b[0m\u001b[1;36m1\u001b[0m\u001b[1;33m]\u001b[0m\u001b[1;33m,\u001b[0m\u001b[1;36m0\u001b[0m\u001b[1;33m,\u001b[0m\u001b[0mNiterations\u001b[0m\u001b[1;33m]\u001b[0m\u001b[1;33m,\u001b[0m\u001b[0maspect\u001b[0m\u001b[1;33m=\u001b[0m\u001b[1;34m\"auto\"\u001b[0m\u001b[1;33m)\u001b[0m\u001b[1;33m\u001b[0m\u001b[1;33m\u001b[0m\u001b[0m\n\u001b[0m\u001b[0;32m     18\u001b[0m \u001b[0mdivider\u001b[0m \u001b[1;33m=\u001b[0m \u001b[0mmake_axes_locatable\u001b[0m\u001b[1;33m(\u001b[0m\u001b[0max\u001b[0m\u001b[1;33m)\u001b[0m\u001b[1;33m\u001b[0m\u001b[1;33m\u001b[0m\u001b[0m\n\u001b[0;32m     19\u001b[0m \u001b[0mcax\u001b[0m \u001b[1;33m=\u001b[0m \u001b[0mdivider\u001b[0m\u001b[1;33m.\u001b[0m\u001b[0mappend_axes\u001b[0m\u001b[1;33m(\u001b[0m\u001b[1;34m\"right\"\u001b[0m\u001b[1;33m,\u001b[0m \u001b[0msize\u001b[0m\u001b[1;33m=\u001b[0m\u001b[1;34m\"5%\"\u001b[0m\u001b[1;33m,\u001b[0m \u001b[0mpad\u001b[0m\u001b[1;33m=\u001b[0m\u001b[1;36m0.05\u001b[0m\u001b[1;33m)\u001b[0m\u001b[1;33m\u001b[0m\u001b[1;33m\u001b[0m\u001b[0m\n",
      "\u001b[1;32m~\\anaconda3\\lib\\site-packages\\matplotlib\\__init__.py\u001b[0m in \u001b[0;36minner\u001b[1;34m(ax, data, *args, **kwargs)\u001b[0m\n\u001b[0;32m   1436\u001b[0m     \u001b[1;32mdef\u001b[0m \u001b[0minner\u001b[0m\u001b[1;33m(\u001b[0m\u001b[0max\u001b[0m\u001b[1;33m,\u001b[0m \u001b[1;33m*\u001b[0m\u001b[0margs\u001b[0m\u001b[1;33m,\u001b[0m \u001b[0mdata\u001b[0m\u001b[1;33m=\u001b[0m\u001b[1;32mNone\u001b[0m\u001b[1;33m,\u001b[0m \u001b[1;33m**\u001b[0m\u001b[0mkwargs\u001b[0m\u001b[1;33m)\u001b[0m\u001b[1;33m:\u001b[0m\u001b[1;33m\u001b[0m\u001b[1;33m\u001b[0m\u001b[0m\n\u001b[0;32m   1437\u001b[0m         \u001b[1;32mif\u001b[0m \u001b[0mdata\u001b[0m \u001b[1;32mis\u001b[0m \u001b[1;32mNone\u001b[0m\u001b[1;33m:\u001b[0m\u001b[1;33m\u001b[0m\u001b[1;33m\u001b[0m\u001b[0m\n\u001b[1;32m-> 1438\u001b[1;33m             \u001b[1;32mreturn\u001b[0m \u001b[0mfunc\u001b[0m\u001b[1;33m(\u001b[0m\u001b[0max\u001b[0m\u001b[1;33m,\u001b[0m \u001b[1;33m*\u001b[0m\u001b[0mmap\u001b[0m\u001b[1;33m(\u001b[0m\u001b[0msanitize_sequence\u001b[0m\u001b[1;33m,\u001b[0m \u001b[0margs\u001b[0m\u001b[1;33m)\u001b[0m\u001b[1;33m,\u001b[0m \u001b[1;33m**\u001b[0m\u001b[0mkwargs\u001b[0m\u001b[1;33m)\u001b[0m\u001b[1;33m\u001b[0m\u001b[1;33m\u001b[0m\u001b[0m\n\u001b[0m\u001b[0;32m   1439\u001b[0m \u001b[1;33m\u001b[0m\u001b[0m\n\u001b[0;32m   1440\u001b[0m         \u001b[0mbound\u001b[0m \u001b[1;33m=\u001b[0m \u001b[0mnew_sig\u001b[0m\u001b[1;33m.\u001b[0m\u001b[0mbind\u001b[0m\u001b[1;33m(\u001b[0m\u001b[0max\u001b[0m\u001b[1;33m,\u001b[0m \u001b[1;33m*\u001b[0m\u001b[0margs\u001b[0m\u001b[1;33m,\u001b[0m \u001b[1;33m**\u001b[0m\u001b[0mkwargs\u001b[0m\u001b[1;33m)\u001b[0m\u001b[1;33m\u001b[0m\u001b[1;33m\u001b[0m\u001b[0m\n",
      "\u001b[1;32m~\\anaconda3\\lib\\site-packages\\matplotlib\\axes\\_axes.py\u001b[0m in \u001b[0;36mimshow\u001b[1;34m(self, X, cmap, norm, aspect, interpolation, alpha, vmin, vmax, origin, extent, filternorm, filterrad, resample, url, **kwargs)\u001b[0m\n\u001b[0;32m   5517\u001b[0m             \u001b[0maspect\u001b[0m \u001b[1;33m=\u001b[0m \u001b[0mrcParams\u001b[0m\u001b[1;33m[\u001b[0m\u001b[1;34m'image.aspect'\u001b[0m\u001b[1;33m]\u001b[0m\u001b[1;33m\u001b[0m\u001b[1;33m\u001b[0m\u001b[0m\n\u001b[0;32m   5518\u001b[0m         \u001b[0mself\u001b[0m\u001b[1;33m.\u001b[0m\u001b[0mset_aspect\u001b[0m\u001b[1;33m(\u001b[0m\u001b[0maspect\u001b[0m\u001b[1;33m)\u001b[0m\u001b[1;33m\u001b[0m\u001b[1;33m\u001b[0m\u001b[0m\n\u001b[1;32m-> 5519\u001b[1;33m         im = mimage.AxesImage(self, cmap, norm, interpolation, origin, extent,\n\u001b[0m\u001b[0;32m   5520\u001b[0m                               \u001b[0mfilternorm\u001b[0m\u001b[1;33m=\u001b[0m\u001b[0mfilternorm\u001b[0m\u001b[1;33m,\u001b[0m \u001b[0mfilterrad\u001b[0m\u001b[1;33m=\u001b[0m\u001b[0mfilterrad\u001b[0m\u001b[1;33m,\u001b[0m\u001b[1;33m\u001b[0m\u001b[1;33m\u001b[0m\u001b[0m\n\u001b[0;32m   5521\u001b[0m                               resample=resample, **kwargs)\n",
      "\u001b[1;32m~\\anaconda3\\lib\\site-packages\\matplotlib\\image.py\u001b[0m in \u001b[0;36m__init__\u001b[1;34m(self, ax, cmap, norm, interpolation, origin, extent, filternorm, filterrad, resample, **kwargs)\u001b[0m\n\u001b[0;32m    898\u001b[0m         \u001b[0mself\u001b[0m\u001b[1;33m.\u001b[0m\u001b[0m_extent\u001b[0m \u001b[1;33m=\u001b[0m \u001b[0mextent\u001b[0m\u001b[1;33m\u001b[0m\u001b[1;33m\u001b[0m\u001b[0m\n\u001b[0;32m    899\u001b[0m \u001b[1;33m\u001b[0m\u001b[0m\n\u001b[1;32m--> 900\u001b[1;33m         super().__init__(\n\u001b[0m\u001b[0;32m    901\u001b[0m             \u001b[0max\u001b[0m\u001b[1;33m,\u001b[0m\u001b[1;33m\u001b[0m\u001b[1;33m\u001b[0m\u001b[0m\n\u001b[0;32m    902\u001b[0m             \u001b[0mcmap\u001b[0m\u001b[1;33m=\u001b[0m\u001b[0mcmap\u001b[0m\u001b[1;33m,\u001b[0m\u001b[1;33m\u001b[0m\u001b[1;33m\u001b[0m\u001b[0m\n",
      "\u001b[1;32m~\\anaconda3\\lib\\site-packages\\matplotlib\\image.py\u001b[0m in \u001b[0;36m__init__\u001b[1;34m(self, ax, cmap, norm, interpolation, origin, filternorm, filterrad, resample, **kwargs)\u001b[0m\n\u001b[0;32m    244\u001b[0m         \u001b[1;32mif\u001b[0m \u001b[0morigin\u001b[0m \u001b[1;32mis\u001b[0m \u001b[1;32mNone\u001b[0m\u001b[1;33m:\u001b[0m\u001b[1;33m\u001b[0m\u001b[1;33m\u001b[0m\u001b[0m\n\u001b[0;32m    245\u001b[0m             \u001b[0morigin\u001b[0m \u001b[1;33m=\u001b[0m \u001b[0mmpl\u001b[0m\u001b[1;33m.\u001b[0m\u001b[0mrcParams\u001b[0m\u001b[1;33m[\u001b[0m\u001b[1;34m'image.origin'\u001b[0m\u001b[1;33m]\u001b[0m\u001b[1;33m\u001b[0m\u001b[1;33m\u001b[0m\u001b[0m\n\u001b[1;32m--> 246\u001b[1;33m         \u001b[0mcbook\u001b[0m\u001b[1;33m.\u001b[0m\u001b[0m_check_in_list\u001b[0m\u001b[1;33m(\u001b[0m\u001b[1;33m[\u001b[0m\u001b[1;34m\"upper\"\u001b[0m\u001b[1;33m,\u001b[0m \u001b[1;34m\"lower\"\u001b[0m\u001b[1;33m]\u001b[0m\u001b[1;33m,\u001b[0m \u001b[0morigin\u001b[0m\u001b[1;33m=\u001b[0m\u001b[0morigin\u001b[0m\u001b[1;33m)\u001b[0m\u001b[1;33m\u001b[0m\u001b[1;33m\u001b[0m\u001b[0m\n\u001b[0m\u001b[0;32m    247\u001b[0m         \u001b[0mself\u001b[0m\u001b[1;33m.\u001b[0m\u001b[0morigin\u001b[0m \u001b[1;33m=\u001b[0m \u001b[0morigin\u001b[0m\u001b[1;33m\u001b[0m\u001b[1;33m\u001b[0m\u001b[0m\n\u001b[0;32m    248\u001b[0m         \u001b[0mself\u001b[0m\u001b[1;33m.\u001b[0m\u001b[0mset_filternorm\u001b[0m\u001b[1;33m(\u001b[0m\u001b[0mfilternorm\u001b[0m\u001b[1;33m)\u001b[0m\u001b[1;33m\u001b[0m\u001b[1;33m\u001b[0m\u001b[0m\n",
      "\u001b[1;32m~\\anaconda3\\lib\\site-packages\\matplotlib\\cbook\\__init__.py\u001b[0m in \u001b[0;36m_check_in_list\u001b[1;34m(_values, **kwargs)\u001b[0m\n\u001b[0;32m   2264\u001b[0m     \u001b[1;32mfor\u001b[0m \u001b[0mk\u001b[0m\u001b[1;33m,\u001b[0m \u001b[0mv\u001b[0m \u001b[1;32min\u001b[0m \u001b[0mkwargs\u001b[0m\u001b[1;33m.\u001b[0m\u001b[0mitems\u001b[0m\u001b[1;33m(\u001b[0m\u001b[1;33m)\u001b[0m\u001b[1;33m:\u001b[0m\u001b[1;33m\u001b[0m\u001b[1;33m\u001b[0m\u001b[0m\n\u001b[0;32m   2265\u001b[0m         \u001b[1;32mif\u001b[0m \u001b[0mv\u001b[0m \u001b[1;32mnot\u001b[0m \u001b[1;32min\u001b[0m \u001b[0mvalues\u001b[0m\u001b[1;33m:\u001b[0m\u001b[1;33m\u001b[0m\u001b[1;33m\u001b[0m\u001b[0m\n\u001b[1;32m-> 2266\u001b[1;33m             raise ValueError(\n\u001b[0m\u001b[0;32m   2267\u001b[0m                 \u001b[1;34m\"{!r} is not a valid value for {}; supported values are {}\"\u001b[0m\u001b[1;33m\u001b[0m\u001b[1;33m\u001b[0m\u001b[0m\n\u001b[0;32m   2268\u001b[0m                 .format(v, k, ', '.join(map(repr, values))))\n",
      "\u001b[1;31mValueError\u001b[0m: 'Bottom' is not a valid value for origin; supported values are 'upper', 'lower'"
     ]
    },
    {
     "data": {
      "image/png": "[encoded data removed]",
      "text/plain": [
       "<Figure size 432x432 with 1 Axes>"
      ]
     },
     "metadata": {
      "needs_background": "light"
     },
     "output_type": "display_data"
    }
   ],
   "source": [
    "# Niterations=250\n",
    "rab = np.load(\"runs/{}_{}_{}_{}_rabbits.npy\".format(N, 1, Niterations, 50))\n",
    "pred = np.load(\"runs/{}_{}_{}_{}_pred.npy\".format(N, 1, Niterations, 50))\n",
    "\n",
    "rab_r = np.sqrt(rab[:,:,:,0]**2 + rab[:,:,:,1]**2)\n",
    "rab_V = np.diff(rab_r,axis=1)/dt\n",
    "\n",
    "binning = 101\n",
    "bins = np.linspace(-2,2,binning+1)\n",
    "data = np.zeros((Niterations, binning))\n",
    "\n",
    "for i in range(Niterations-1):\n",
    "    counts, _ = np.histogram(rab_V[:,i,:],bins=bins)\n",
    "    data[i,:] = counts\n",
    "    \n",
    "fig, ax = plt.subplots(figsize=(6,6))\n",
    "im = ax.imshow(np.log(data),cmap=\"hot\", origin=\"Bottom\", interpolation='none',extent=[bins[0],bins[-1],0,Niterations],aspect=\"auto\")\n",
    "divider = make_axes_locatable(ax)\n",
    "cax = divider.append_axes(\"right\", size=\"5%\", pad=0.05)\n",
    "fig.colorbar(im, cax=cax)"
   ]
  },
  {
   "cell_type": "code",
   "execution_count": null,
   "metadata": {},
   "outputs": [],
   "source": [
    "%matplotlib inline"
   ]
  },
  {
   "cell_type": "code",
   "execution_count": null,
   "metadata": {
    "scrolled": false
   },
   "outputs": [],
   "source": [
    "for i in range(0,Niterations,10):\n",
    "    plt.scatter(rab[0,i,:,0],rab[0,i,:,1])\n",
    "    plt.scatter(pred[0,i,:,0],pred[0,i,:,1])\n",
    "    plt.show()\n",
    "    plt.pause(0.2)\n",
    "    plt.clf()"
   ]
  },
  {
   "cell_type": "code",
   "execution_count": null,
   "metadata": {},
   "outputs": [],
   "source": [
    "# rab = np.load(\"runs/{}_{}_{}_{}_rabbits.npy\".format(N, 2, 1000, 50))\n",
    "# pred = np.load(\"runs/{}_{}_{}_{}_pred.npy\".format(N, 2, 1000, 50))\n",
    "# Niterations=1000"
   ]
  },
  {
   "cell_type": "code",
   "execution_count": null,
   "metadata": {},
   "outputs": [],
   "source": [
    "plt.plot(np.arange(Niterations),rab[1,:,0,0],label=\"X or Y\")\n",
    "plt.plot(np.arange(Niterations),rab[1,:,0,1],label=\"Other\")\n",
    "plt.legend()"
   ]
  },
  {
   "cell_type": "code",
   "execution_count": null,
   "metadata": {},
   "outputs": [],
   "source": [
    "plt.plot(np.arange(Niterations),pred[0,:,0,0],label=\"X or Y\")\n",
    "plt.plot(np.arange(Niterations),pred[0,:,0,1],label=\"Other\")\n",
    "plt.legend()"
   ]
  },
  {
   "cell_type": "code",
   "execution_count": null,
   "metadata": {},
   "outputs": [],
   "source": []
  }
 ],
 "metadata": {
  "kernelspec": {
   "display_name": "Python 3",
   "language": "python",
   "name": "python3"
  },
  "language_info": {
   "codemirror_mode": {
    "name": "ipython",
    "version": 3
   },
   "file_extension": ".py",
   "mimetype": "text/x-python",
   "name": "python",
   "nbconvert_exporter": "python",
   "pygments_lexer": "ipython3",
   "version": "3.8.5"
  }
 },
 "nbformat": 4,
 "nbformat_minor": 4
}
