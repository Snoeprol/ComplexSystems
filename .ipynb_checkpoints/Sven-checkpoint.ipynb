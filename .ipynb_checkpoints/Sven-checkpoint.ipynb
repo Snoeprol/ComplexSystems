{
 "cells": [
  {
   "cell_type": "code",
   "execution_count": 270,
   "metadata": {},
   "outputs": [],
   "source": [
    "import numpy as np\n",
    "import numba as nb\n",
    "from scipy.stats import maxwell\n",
    "import matplotlib.pyplot as plt\n",
    "import matplotlib.animation as animation\n",
    "from copy import copy\n",
    "from matplotlib.widgets import Slider\n",
    "from mpl_toolkits.axes_grid1 import make_axes_locatable\n",
    "\n",
    "# Periodic boundary conditions\n",
    "# Rabbits are field with positions, velocities, awareness radius.\n",
    "NVAR = 5\n",
    "PVAR = NVAR-1\n",
    "N = 50\n",
    "R = 0.15\n",
    "GA = 0.2\n",
    "RA = 10\n",
    "PA = 1/30\n",
    "dt = 0.01\n",
    "ms = 5\n",
    "PRED_NOISE = 0.02\n",
    "RADIUS_PRED = 0.2\n",
    "Niterations = 100\n",
    "MAX_SPEED = 0.01/dt\n",
    "PRED_SPEED = MAX_SPEED #NEW\n",
    "DECAY_RATE = 0.995"
   ]
  },
  {
   "cell_type": "code",
   "execution_count": 271,
   "metadata": {},
   "outputs": [],
   "source": [
    "#@nb.njit\n",
    "def init_rabbits(N, NVAR):\n",
    "    # Velocities and positions\n",
    "    rabbits = np.zeros((N, NVAR))\n",
    "\n",
    "    positions = np.random.rand(N, 2)\n",
    "    rabbits[:, 0:2] = positions\n",
    "    \n",
    "    velocities = 0#T * (np.random.rand(N, 2) - 1/2)\n",
    "    rabbits[:, 2:4] = velocities\n",
    "    \n",
    "    return rabbits\n",
    "\n",
    "def init_nn_array(N):\n",
    "    return np.zeros((N, N - 1))\n",
    "\n",
    "# @nb.njit\n",
    "def get_rn_noise(amplitude,rabbits):\n",
    "    \n",
    "    # Random walk\n",
    "    N = len(rabbits)\n",
    "    perturbation = amplitude * (np.random.rand(N, 2) - 0.5)\n",
    "    return perturbation"
   ]
  },
  {
   "cell_type": "code",
   "execution_count": 272,
   "metadata": {},
   "outputs": [],
   "source": [
    "from scipy.spatial import distance\n",
    "\n",
    "def closest_node(node, nodes):\n",
    "    \"\"\"https://codereview.stackexchange.com/questions/28207/finding-the-closest-point-to-a-list-of-points\"\"\"\n",
    "    return distance.cdist([node[:2]], nodes[:,:2]-node[:2]).argmin()\n",
    "\n",
    "def get_closest_other(rabbits,predators):\n",
    "    \"\"\"Get closest rabbit-predator pair\"\"\"\n",
    "    return np.apply_along_axis(closest_node, 1, rabbits, predators)"
   ]
  },
  {
   "cell_type": "code",
   "execution_count": 273,
   "metadata": {},
   "outputs": [],
   "source": [
    "def init_predators(N,PVAR):\n",
    "    # Velocities and positions\n",
    "    predators = np.zeros((N, PVAR))\n",
    "\n",
    "    positions = np.random.rand(N, 2)\n",
    "    predators[:, 0:2] = positions\n",
    "    \n",
    "    velocities = np.random.rand(N, 2)-1/2\n",
    "    predators[:, 2:4] = velocities\n",
    "    return predators"
   ]
  },
  {
   "cell_type": "code",
   "execution_count": 274,
   "metadata": {},
   "outputs": [],
   "source": [
    "def predator_force(zero, distances, RADIUS_PRED, PA):\n",
    "    mask = np.linalg.norm(zero[:4] - distances) > RADIUS_PRED\n",
    "    distances[mask] = np.inf\n",
    "    return PA/distances\n",
    "\n",
    "def get_predators_force(rabbits, predators, PA):\n",
    "    return np.apply_along_axis(predator_force, 1, rabbits, predators.copy(), RADIUS_PRED,PA).sum(axis=1)[:,2:4]"
   ]
  },
  {
   "cell_type": "code",
   "execution_count": 275,
   "metadata": {},
   "outputs": [],
   "source": [
    "def update_velocities(rabbits, predators, dt,nn_array,combination_array,nn_indices):\n",
    "    # Rabbits\n",
    "    nn_array,combination_array,nn_indices = get_nn(rabbits, R,nn_array,combination_array,nn_indices)\n",
    "    group_force = get_group_influence(GA, nn_array, rabbits)\n",
    "    perturbation = get_rn_noise(RA,rabbits)\n",
    "    predators_force = get_predators_force(rabbits, predators, PA)\n",
    "    rabbits[:, 2:4] += dt * (group_force + perturbation + predators_force) \n",
    "    rabbits[:, 2:4] *= DECAY_RATE\n",
    "\n",
    "    for rabbit in rabbits:\n",
    "        v = np.linalg.norm(rabbit[2:4])\n",
    "        if v > MAX_SPEED:\n",
    "            rabbit[2:4] = rabbit[2:4] * MAX_SPEED/ v\n",
    "    \n",
    "    # Predator\n",
    "    closest_rabbits = get_closest_other(predators,rabbits) #IDK how to normalize properly\n",
    "    predators[:, 2:4] = PRED_SPEED*((rabbits[closest_rabbits][:,:2]-predators[:, :2])/\n",
    "                                    np.linalg.norm((rabbits[closest_rabbits][:,:2]-predators[:, :2]),axis=1)[:,None]**2)\n",
    "    predators[:, 2:4] += PRED_NOISE * (np.random.rand(2) - 0.5)\n",
    "    return rabbits, predators, nn_array,combination_array,nn_indices\n",
    "\n",
    "def step(rabbits, predators, dt,nn_array,combination_array,nn_indices):\n",
    "    rabbits, predators, nn_array, combination_array, nn_indices = update_velocities(rabbits, predators, \n",
    "                                                                                    dt,nn_array, combination_array,nn_indices)\n",
    "    \n",
    "    rabbits[:, 0] = (rabbits[:, 0] + dt * rabbits[:, 2]) % 1\n",
    "    rabbits[:, 1] = (rabbits[:, 1] + dt * rabbits[:, 3]) % 1\n",
    "\n",
    "    predators[:, 0] = (predators[:, 0] + dt * predators[:, 2]) % 1\n",
    "    predators[:, 1] = (predators[:, 1] + dt * predators[:, 3]) % 1\n",
    "\n",
    "    return rabbits, predators\n",
    "\n",
    "def get_nn(rabbits, r,nn_array,combination_array,nn_indices):\n",
    "    \"\"\"\n",
    "    Returns array nn_indices, where the N-th elements contains the indices of the N-th rabbit\n",
    "    \n",
    "    shape nn_indices = N\n",
    "    \"\"\"\n",
    "    \n",
    "    # Clean arrays\n",
    "    nn_array[:, :] = -1\n",
    "    combination_array[:, :] = 0\n",
    "    nn_indices[:] = 0\n",
    "    \n",
    "    # For loop has O(N^@)\n",
    "    for i, rabbit in enumerate(rabbits):\n",
    "        for j, rabbit_n in enumerate(rabbits):\n",
    "            # Remove self-interaction\n",
    "            if i != j:\n",
    "                # Remove redundant calculations\n",
    "                if combination_array[i, j] != 1:\n",
    "                    combination_array[i, j] = 1\n",
    "                    combination_array[j , i] = 1\n",
    "                    # Possible new swarm interaction\n",
    "                    d = np.linalg.norm(rabbit[0:2] - rabbit_n[0:2])\n",
    "                    if d < r:\n",
    "                        nn_array[i, nn_indices[i], 0] = j\n",
    "                        nn_array[j, nn_indices[j], 0] = i\n",
    "                        nn_array[i, nn_indices[i], 1] = d\n",
    "                        nn_array[j, nn_indices[j], 1] = d\n",
    "                        nn_indices[i] += 1\n",
    "                        nn_indices[j] += 1\n",
    "                        \n",
    "    return nn_array,combination_array,nn_indices\n",
    "\n",
    "#@nb.njit\n",
    "def get_group_influence(amplitude, nn,rabbits ):\n",
    "    \"\"\"Given the nearest neighbor array, calculates the swarm influence \n",
    "\n",
    "    Parameters\n",
    "    ----------\n",
    "    rabits : float array\n",
    "        Array containing all values of positions and velocities of the rabbits.\n",
    "    nn_array : int, float array\n",
    "        Array where N-th elements contains the indices combined with distances to nearest neighbors.\n",
    "\n",
    "    Returns\n",
    "    -------\n",
    "    float array\n",
    "        N, 2 float array which describes the force caused by the group\n",
    "    \"\"\"\n",
    "    \n",
    "    # TODO Add weighted sums (closer neighbors have more influence)\n",
    "    #total_weights = np.zeros((N))\n",
    "    \n",
    "    \n",
    "    group_velocities = np.zeros((N, 2))\n",
    "    \n",
    "    # Collect weights\n",
    "    #for i, rabbit in enumerate(nn):\n",
    "    #    total_weights[i] = np.sum(rabbit[:, 0])\n",
    "    \n",
    "    temp_vel = np.zeros((2))\n",
    "    # Calculate the average velocity vector of neighbors weighed proportionally to their distance\n",
    "    for i, rabbit in enumerate(nn):\n",
    "        # No neighbors\n",
    "        #if total_weights[i] == 0:\n",
    "            #break\n",
    "        \n",
    "        temp_vel[:] = 0\n",
    "        for neighbor in rabbit:\n",
    "            if neighbor[0] == -1:\n",
    "                break\n",
    "            else:\n",
    "                # Neighbor 0 is index\n",
    "                # Neighbor 1 is distance\n",
    "                temp_vel += rabbits[neighbor[0], 2:4]\n",
    "        #temp_vel /= total_weights[i]\n",
    "        # TODO MIGHT NEED TO ADD COPY AGAIN\n",
    "        group_velocities[i] = temp_vel\n",
    "        temp_vel[:] = 0\n",
    "        \n",
    "    return amplitude * group_velocities          "
   ]
  },
  {
   "cell_type": "code",
   "execution_count": 276,
   "metadata": {},
   "outputs": [],
   "source": [
    "def run(N, N_P, NVAR, PVAR, Niterations):\n",
    "    rabbits = init_rabbits(N, NVAR)\n",
    "    predators = init_predators(N_P, PVAR)\n",
    "    nn_array = np.zeros((N, N, 2), dtype = np.int)\n",
    "    combination_array = np.zeros((N, N), dtype = np.int)\n",
    "    nn_indices = np.zeros((N), dtype = np.int)\n",
    "    \n",
    "    data_rabbits = np.zeros((Niterations, N, NVAR))\n",
    "    data_predators = np.zeros((Niterations, N_P, PVAR))\n",
    "    \n",
    "    data_rabbits[0,:,:] = rabbits.copy()\n",
    "    data_predators[0,:,:] = predators.copy()\n",
    "    \n",
    "    for i in range(1,Niterations):\n",
    "        rabbits, predators = step(rabbits, predators, dt,nn_array,combination_array,nn_indices)\n",
    "        data_rabbits[i,:,:] = rabbits.copy()\n",
    "        data_predators[i,:,:] = predators.copy()\n",
    "        if data_rabbits[i-1,0,0] == rabbits[0,0]:\n",
    "            print(\"Kutzooi\")\n",
    "    return data_rabbits, data_predators"
   ]
  },
  {
   "cell_type": "code",
   "execution_count": 277,
   "metadata": {},
   "outputs": [],
   "source": [
    "from tqdm import tqdm\n",
    "def runs(N, N_P, NVAR, PVAR, Niterations, runs):\n",
    "    data_rabbits = np.zeros((runs,Niterations,N, NVAR))\n",
    "    data_predators = np.zeros((runs,Niterations,N_P, PVAR))\n",
    "    \n",
    "    for i in tqdm(range(runs)):\n",
    "        rabbits, predators = run(N, N_P, NVAR, PVAR, Niterations)\n",
    "        data_rabbits[i, :, :, :] = rabbits.copy()\n",
    "        data_predators[i, :, :, :] = predators.copy()\n",
    "    np.save(\"runs/{}_{}_{}_{}_rabbits.npy\".format(N, N_P, Niterations, runs), data_rabbits)\n",
    "    np.save(\"runs/{}_{}_{}_{}_pred.npy\".format(N, N_P, Niterations, runs), data_predators)\n",
    "    return data_rabbits, data_predators"
   ]
  },
  {
   "cell_type": "code",
   "execution_count": null,
   "metadata": {},
   "outputs": [
    {
     "name": "stderr",
     "output_type": "stream",
     "text": [
      "100%|██████████| 50/50 [00:41<00:00,  1.21it/s]\n",
      "100%|██████████| 50/50 [00:41<00:00,  1.21it/s]\n",
      "100%|██████████| 50/50 [00:40<00:00,  1.23it/s]\n",
      "100%|██████████| 50/50 [00:41<00:00,  1.20it/s]\n",
      "100%|██████████| 50/50 [00:42<00:00,  1.18it/s]\n",
      "100%|██████████| 50/50 [00:41<00:00,  1.20it/s]\n",
      "100%|██████████| 50/50 [00:41<00:00,  1.21it/s]\n",
      "100%|██████████| 50/50 [00:41<00:00,  1.19it/s]\n",
      "100%|██████████| 50/50 [00:42<00:00,  1.19it/s]\n",
      "100%|██████████| 50/50 [00:41<00:00,  1.22it/s]\n",
      " 24%|██▍       | 12/50 [00:09<00:31,  1.21it/s]"
     ]
    }
   ],
   "source": [
    "for i in range(1,N):\n",
    "    np.random.seed(i)\n",
    "    runs(N, i, NVAR, PVAR, Niterations, 50)"
   ]
  },
  {
   "cell_type": "code",
   "execution_count": 278,
   "metadata": {},
   "outputs": [
    {
     "name": "stderr",
     "output_type": "stream",
     "text": [
      "100%|██████████| 50/50 [00:42<00:00,  1.19it/s]\n"
     ]
    }
   ],
   "source": [
    "data_rab, data_pred = runs(N, 1, NVAR, PVAR, Niterations, 50)"
   ]
  },
  {
   "cell_type": "code",
   "execution_count": 279,
   "metadata": {},
   "outputs": [
    {
     "name": "stderr",
     "output_type": "stream",
     "text": [
      "<ipython-input-279-073532385f40>:13: RuntimeWarning: divide by zero encountered in log\n",
      "  im = ax.imshow(np.log(data),cmap=\"hot\", origin=\"Bottom\", interpolation='none',extent=[bins[0],bins[-1],0,Niterations],aspect=\"auto\")\n"
     ]
    },
    {
     "data": {
      "text/plain": [
       "<matplotlib.colorbar.Colorbar at 0x7fd16e7430d0>"
      ]
     },
     "execution_count": 279,
     "metadata": {},
     "output_type": "execute_result"
    },
    {
     "data": {
      "image/png": "[encoded data removed]",
      "text/plain": [
       "<Figure size 432x432 with 2 Axes>"
      ]
     },
     "metadata": {
      "needs_background": "light"
     },
     "output_type": "display_data"
    }
   ],
   "source": [
    "# Niterations=250\n",
    "rab = np.load(\"runs/{}_{}_{}_{}_rabbits.npy\".format(N, 1, Niterations, 50))\n",
    "pred = np.load(\"runs/{}_{}_{}_{}_pred.npy\".format(N,1, Niterations, 50))\n",
    "\n",
    "binning = 51\n",
    "bins = np.linspace(-2,2,binning+1)\n",
    "data = np.zeros((Niterations, binning))\n",
    "for i in range(Niterations-1):\n",
    "    counts, _ = np.histogram(rab_V[:,i,:],bins=bins)\n",
    "    data[i,:] = counts\n",
    "    \n",
    "fig, ax = plt.subplots(figsize=(6,6))\n",
    "im = ax.imshow(np.log(data),cmap=\"hot\", origin=\"Bottom\", interpolation='none',extent=[bins[0],bins[-1],0,Niterations],aspect=\"auto\")\n",
    "divider = make_axes_locatable(ax)\n",
    "cax = divider.append_axes(\"right\", size=\"5%\", pad=0.05)\n",
    "fig.colorbar(im, cax=cax)"
   ]
  },
  {
   "cell_type": "code",
   "execution_count": 280,
   "metadata": {},
   "outputs": [],
   "source": [
    "# rab = np.load(\"runs/{}_{}_{}_{}_rabbits.npy\".format(N, 2, 1000, 50))\n",
    "# pred = np.load(\"runs/{}_{}_{}_{}_pred.npy\".format(N, 2, 1000, 50))\n",
    "# Niterations=1000"
   ]
  },
  {
   "cell_type": "code",
   "execution_count": 283,
   "metadata": {},
   "outputs": [
    {
     "data": {
      "text/plain": [
       "<matplotlib.legend.Legend at 0x7fd16fc9d430>"
      ]
     },
     "execution_count": 283,
     "metadata": {},
     "output_type": "execute_result"
    },
    {
     "data": {
      "image/png": "[encoded data removed]",
      "text/plain": [
       "<Figure size 432x288 with 1 Axes>"
      ]
     },
     "metadata": {
      "needs_background": "light"
     },
     "output_type": "display_data"
    }
   ],
   "source": [
    "plt.plot(np.arange(Niterations),rab[1,:,0,0],label=\"X or Y\")\n",
    "plt.plot(np.arange(Niterations),rab[1,:,0,1],label=\"Other\")\n",
    "plt.legend()"
   ]
  },
  {
   "cell_type": "code",
   "execution_count": 284,
   "metadata": {},
   "outputs": [
    {
     "data": {
      "text/plain": [
       "<matplotlib.legend.Legend at 0x7fd16e5e1580>"
      ]
     },
     "execution_count": 284,
     "metadata": {},
     "output_type": "execute_result"
    },
    {
     "data": {
      "image/png": "[encoded data removed]",
      "text/plain": [
       "<Figure size 432x288 with 1 Axes>"
      ]
     },
     "metadata": {
      "needs_background": "light"
     },
     "output_type": "display_data"
    }
   ],
   "source": [
    "plt.plot(np.arange(Niterations),pred[0,:,0,0],label=\"X or Y\")\n",
    "plt.plot(np.arange(Niterations),pred[0,:,0,1],label=\"Other\")\n",
    "plt.legend()"
   ]
  },
  {
   "cell_type": "code",
   "execution_count": 257,
   "metadata": {},
   "outputs": [
    {
     "data": {
      "text/plain": [
       "array([-48.42432551, -98.38464085, -67.44818925, ..., -91.82576892,\n",
       "       -81.92975065, -93.30671521])"
      ]
     },
     "execution_count": 257,
     "metadata": {},
     "output_type": "execute_result"
    }
   ],
   "source": [
    "pred_r = np.sqrt(pred[:,:,:,0]**2 + pred[:,:,:,1]**2)\n",
    "pred_V = np.diff(pred_r,axis=1)/dt\n",
    "pred_V[pred_V<0]"
   ]
  },
  {
   "cell_type": "code",
   "execution_count": 213,
   "metadata": {},
   "outputs": [
    {
     "data": {
      "text/plain": [
       "(50, 249, 50)"
      ]
     },
     "execution_count": 213,
     "metadata": {},
     "output_type": "execute_result"
    }
   ],
   "source": [
    "rab_r = np.sqrt(rab[:,:,:,0]**2 + rab[:,:,:,1]**2)\n",
    "rab_V = np.diff(rab_r,axis=1)/dt\n",
    "rab_V.shape"
   ]
  },
  {
   "cell_type": "code",
   "execution_count": 214,
   "metadata": {},
   "outputs": [],
   "source": [
    "binning = 51\n",
    "bins = np.linspace(-2,2,binning+1)\n",
    "data = np.zeros((Niterations, binning))\n",
    "for i in range(Niterations-1):\n",
    "    counts, _ = np.histogram(rab_V[:,i,:],bins=bins)\n",
    "    data[i,:] = counts"
   ]
  },
  {
   "cell_type": "code",
   "execution_count": 215,
   "metadata": {},
   "outputs": [
    {
     "data": {
      "text/plain": [
       "Text(0.5, 0, 'V bins')"
      ]
     },
     "execution_count": 215,
     "metadata": {},
     "output_type": "execute_result"
    },
    {
     "data": {
      "image/png": "[encoded data removed]",
      "text/plain": [
       "<Figure size 432x432 with 2 Axes>"
      ]
     },
     "metadata": {
      "needs_background": "light"
     },
     "output_type": "display_data"
    }
   ],
   "source": [
    "fig, ax = plt.subplots(figsize=(6,6))\n",
    "im = ax.imshow(np.log(data[:250,:]),cmap=\"hot\", origin=\"Bottom\", interpolation='none',extent=[bins[0],bins[-1],0,Niterations],aspect=\"auto\")\n",
    "divider = make_axes_locatable(ax)\n",
    "cax = divider.append_axes(\"right\", size=\"5%\", pad=0.05)\n",
    "fig.colorbar(im, cax=cax)\n",
    "ax.set_ylabel(\"Niterations\")\n",
    "ax.set_xlabel(\"V bins\")"
   ]
  },
  {
   "cell_type": "code",
   "execution_count": null,
   "metadata": {},
   "outputs": [],
   "source": []
  }
 ],
 "metadata": {
  "kernelspec": {
   "display_name": "Python 3",
   "language": "python",
   "name": "python3"
  },
  "language_info": {
   "codemirror_mode": {
    "name": "ipython",
    "version": 3
   },
   "file_extension": ".py",
   "mimetype": "text/x-python",
   "name": "python",
   "nbconvert_exporter": "python",
   "pygments_lexer": "ipython3",
   "version": "3.8.3"
  }
 },
 "nbformat": 4,
 "nbformat_minor": 4
}
