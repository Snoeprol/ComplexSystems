{
 "cells": [
  {
   "cell_type": "code",
   "execution_count": 270,
   "metadata": {},
   "outputs": [],
   "source": [
    "import numpy as np\n",
    "import numba as nb\n",
    "from scipy.stats import maxwell\n",
    "import matplotlib.pyplot as plt\n",
    "import matplotlib.animation as animation\n",
    "from copy import copy\n",
    "from matplotlib.widgets import Slider\n",
    "from mpl_toolkits.axes_grid1 import make_axes_locatable\n",
    "\n",
    "# Periodic boundary conditions\n",
    "# Rabbits are field with positions, velocities, awareness radius.\n",
    "NVAR = 5\n",
    "PVAR = NVAR-1\n",
    "N = 50\n",
    "R = 0.15\n",
    "GA = 0.2\n",
    "RA = 10\n",
    "PA = 1/30\n",
    "dt = 0.01\n",
    "ms = 5\n",
    "PRED_NOISE = 0.02\n",
    "RADIUS_PRED = 0.2\n",
    "Niterations = 100\n",
    "MAX_SPEED = 0.01/dt\n",
    "PRED_SPEED = MAX_SPEED #NEW\n",
    "DECAY_RATE = 0.995"
   ]
  },
  {
   "cell_type": "code",
   "execution_count": 271,
   "metadata": {},
   "outputs": [],
   "source": [
    "#@nb.njit\n",
    "def init_rabbits(N, NVAR):\n",
    "    # Velocities and positions\n",
    "    rabbits = np.zeros((N, NVAR))\n",
    "\n",
    "    positions = np.random.rand(N, 2)\n",
    "    rabbits[:, 0:2] = positions\n",
    "    \n",
    "    velocities = 0#T * (np.random.rand(N, 2) - 1/2)\n",
    "    rabbits[:, 2:4] = velocities\n",
    "    \n",
    "    return rabbits\n",
    "\n",
    "def init_nn_array(N):\n",
    "    return np.zeros((N, N - 1))\n",
    "\n",
    "# @nb.njit\n",
    "def get_rn_noise(amplitude,rabbits):\n",
    "    \n",
    "    # Random walk\n",
    "    N = len(rabbits)\n",
    "    perturbation = amplitude * (np.random.rand(N, 2) - 0.5)\n",
    "    return perturbation"
   ]
  },
  {
   "cell_type": "code",
   "execution_count": 272,
   "metadata": {},
   "outputs": [],
   "source": [
    "from scipy.spatial import distance\n",
    "\n",
    "def closest_node(node, nodes):\n",
    "    \"\"\"https://codereview.stackexchange.com/questions/28207/finding-the-closest-point-to-a-list-of-points\"\"\"\n",
    "    return distance.cdist([node[:2]], nodes[:,:2]-node[:2]).argmin()\n",
    "\n",
    "def get_closest_other(rabbits,predators):\n",
    "    \"\"\"Get closest rabbit-predator pair\"\"\"\n",
    "    return np.apply_along_axis(closest_node, 1, rabbits, predators)"
   ]
  },
  {
   "cell_type": "code",
   "execution_count": 273,
   "metadata": {},
   "outputs": [],
   "source": [
    "def init_predators(N,PVAR):\n",
    "    # Velocities and positions\n",
    "    predators = np.zeros((N, PVAR))\n",
    "\n",
    "    positions = np.random.rand(N, 2)\n",
    "    predators[:, 0:2] = positions\n",
    "    \n",
    "    velocities = np.random.rand(N, 2)-1/2\n",
    "    predators[:, 2:4] = velocities\n",
    "    return predators"
   ]
  },
  {
   "cell_type": "code",
   "execution_count": 274,
   "metadata": {},
   "outputs": [],
   "source": [
    "def predator_force(zero, distances, RADIUS_PRED, PA):\n",
    "    mask = np.linalg.norm(zero[:4] - distances) > RADIUS_PRED\n",
    "    distances[mask] = np.inf\n",
    "    return PA/distances\n",
    "\n",
    "def get_predators_force(rabbits, predators, PA):\n",
    "    return np.apply_along_axis(predator_force, 1, rabbits, predators.copy(), RADIUS_PRED,PA).sum(axis=1)[:,2:4]"
   ]
  },
  {
   "cell_type": "code",
   "execution_count": 275,
   "metadata": {},
   "outputs": [],
   "source": [
    "def update_velocities(rabbits, predators, dt,nn_array,combination_array,nn_indices):\n",
    "    # Rabbits\n",
    "    nn_array,combination_array,nn_indices = get_nn(rabbits, R,nn_array,combination_array,nn_indices)\n",
    "    group_force = get_group_influence(GA, nn_array, rabbits)\n",
    "    perturbation = get_rn_noise(RA,rabbits)\n",
    "    predators_force = get_predators_force(rabbits, predators, PA)\n",
    "    rabbits[:, 2:4] += dt * (group_force + perturbation + predators_force) \n",
    "    rabbits[:, 2:4] *= DECAY_RATE\n",
    "\n",
    "    for rabbit in rabbits:\n",
    "        v = np.linalg.norm(rabbit[2:4])\n",
    "        if v > MAX_SPEED:\n",
    "            rabbit[2:4] = rabbit[2:4] * MAX_SPEED/ v\n",
    "    \n",
    "    # Predator\n",
    "    closest_rabbits = get_closest_other(predators,rabbits) #IDK how to normalize properly\n",
    "    predators[:, 2:4] = PRED_SPEED*((rabbits[closest_rabbits][:,:2]-predators[:, :2])/\n",
    "                                    np.linalg.norm((rabbits[closest_rabbits][:,:2]-predators[:, :2]),axis=1)[:,None]**2)\n",
    "    predators[:, 2:4] += PRED_NOISE * (np.random.rand(2) - 0.5)\n",
    "    return rabbits, predators, nn_array,combination_array,nn_indices\n",
    "\n",
    "def step(rabbits, predators, dt,nn_array,combination_array,nn_indices):\n",
    "    rabbits, predators, nn_array, combination_array, nn_indices = update_velocities(rabbits, predators, \n",
    "                                                                                    dt,nn_array, combination_array,nn_indices)\n",
    "    \n",
    "    rabbits[:, 0] = (rabbits[:, 0] + dt * rabbits[:, 2]) % 1\n",
    "    rabbits[:, 1] = (rabbits[:, 1] + dt * rabbits[:, 3]) % 1\n",
    "\n",
    "    predators[:, 0] = (predators[:, 0] + dt * predators[:, 2]) % 1\n",
    "    predators[:, 1] = (predators[:, 1] + dt * predators[:, 3]) % 1\n",
    "\n",
    "    return rabbits, predators\n",
    "\n",
    "def get_nn(rabbits, r,nn_array,combination_array,nn_indices):\n",
    "    \"\"\"\n",
    "    Returns array nn_indices, where the N-th elements contains the indices of the N-th rabbit\n",
    "    \n",
    "    shape nn_indices = N\n",
    "    \"\"\"\n",
    "    \n",
    "    # Clean arrays\n",
    "    nn_array[:, :] = -1\n",
    "    combination_array[:, :] = 0\n",
    "    nn_indices[:] = 0\n",
    "    \n",
    "    # For loop has O(N^@)\n",
    "    for i, rabbit in enumerate(rabbits):\n",
    "        for j, rabbit_n in enumerate(rabbits):\n",
    "            # Remove self-interaction\n",
    "            if i != j:\n",
    "                # Remove redundant calculations\n",
    "                if combination_array[i, j] != 1:\n",
    "                    combination_array[i, j] = 1\n",
    "                    combination_array[j , i] = 1\n",
    "                    # Possible new swarm interaction\n",
    "                    d = np.linalg.norm(rabbit[0:2] - rabbit_n[0:2])\n",
    "                    if d < r:\n",
    "                        nn_array[i, nn_indices[i], 0] = j\n",
    "                        nn_array[j, nn_indices[j], 0] = i\n",
    "                        nn_array[i, nn_indices[i], 1] = d\n",
    "                        nn_array[j, nn_indices[j], 1] = d\n",
    "                        nn_indices[i] += 1\n",
    "                        nn_indices[j] += 1\n",
    "                        \n",
    "    return nn_array,combination_array,nn_indices\n",
    "\n",
    "#@nb.njit\n",
    "def get_group_influence(amplitude, nn,rabbits ):\n",
    "    \"\"\"Given the nearest neighbor array, calculates the swarm influence \n",
    "\n",
    "    Parameters\n",
    "    ----------\n",
    "    rabits : float array\n",
    "        Array containing all values of positions and velocities of the rabbits.\n",
    "    nn_array : int, float array\n",
    "        Array where N-th elements contains the indices combined with distances to nearest neighbors.\n",
    "\n",
    "    Returns\n",
    "    -------\n",
    "    float array\n",
    "        N, 2 float array which describes the force caused by the group\n",
    "    \"\"\"\n",
    "    \n",
    "    # TODO Add weighted sums (closer neighbors have more influence)\n",
    "    #total_weights = np.zeros((N))\n",
    "    \n",
    "    \n",
    "    group_velocities = np.zeros((N, 2))\n",
    "    \n",
    "    # Collect weights\n",
    "    #for i, rabbit in enumerate(nn):\n",
    "    #    total_weights[i] = np.sum(rabbit[:, 0])\n",
    "    \n",
    "    temp_vel = np.zeros((2))\n",
    "    # Calculate the average velocity vector of neighbors weighed proportionally to their distance\n",
    "    for i, rabbit in enumerate(nn):\n",
    "        # No neighbors\n",
    "        #if total_weights[i] == 0:\n",
    "            #break\n",
    "        \n",
    "        temp_vel[:] = 0\n",
    "        for neighbor in rabbit:\n",
    "            if neighbor[0] == -1:\n",
    "                break\n",
    "            else:\n",
    "                # Neighbor 0 is index\n",
    "                # Neighbor 1 is distance\n",
    "                temp_vel += rabbits[neighbor[0], 2:4]\n",
    "        #temp_vel /= total_weights[i]\n",
    "        # TODO MIGHT NEED TO ADD COPY AGAIN\n",
    "        group_velocities[i] = temp_vel\n",
    "        temp_vel[:] = 0\n",
    "        \n",
    "    return amplitude * group_velocities          "
   ]
  },
  {
   "cell_type": "code",
   "execution_count": 276,
   "metadata": {},
   "outputs": [],
   "source": [
    "def run(N, N_P, NVAR, PVAR, Niterations):\n",
    "    rabbits = init_rabbits(N, NVAR)\n",
    "    predators = init_predators(N_P, PVAR)\n",
    "    nn_array = np.zeros((N, N, 2), dtype = np.int)\n",
    "    combination_array = np.zeros((N, N), dtype = np.int)\n",
    "    nn_indices = np.zeros((N), dtype = np.int)\n",
    "    \n",
    "    data_rabbits = np.zeros((Niterations, N, NVAR))\n",
    "    data_predators = np.zeros((Niterations, N_P, PVAR))\n",
    "    \n",
    "    data_rabbits[0,:,:] = rabbits.copy()\n",
    "    data_predators[0,:,:] = predators.copy()\n",
    "    \n",
    "    for i in range(1,Niterations):\n",
    "        rabbits, predators = step(rabbits, predators, dt,nn_array,combination_array,nn_indices)\n",
    "        data_rabbits[i,:,:] = rabbits.copy()\n",
    "        data_predators[i,:,:] = predators.copy()\n",
    "        if data_rabbits[i-1,0,0] == rabbits[0,0]:\n",
    "            print(\"Kutzooi\")\n",
    "    return data_rabbits, data_predators"
   ]
  },
  {
   "cell_type": "code",
   "execution_count": 277,
   "metadata": {},
   "outputs": [],
   "source": [
    "from tqdm import tqdm\n",
    "def runs(N, N_P, NVAR, PVAR, Niterations, runs):\n",
    "    data_rabbits = np.zeros((runs,Niterations,N, NVAR))\n",
    "    data_predators = np.zeros((runs,Niterations,N_P, PVAR))\n",
    "    \n",
    "    for i in tqdm(range(runs)):\n",
    "        rabbits, predators = run(N, N_P, NVAR, PVAR, Niterations)\n",
    "        data_rabbits[i, :, :, :] = rabbits.copy()\n",
    "        data_predators[i, :, :, :] = predators.copy()\n",
    "    np.save(\"runs/{}_{}_{}_{}_rabbits.npy\".format(N, N_P, Niterations, runs), data_rabbits)\n",
    "    np.save(\"runs/{}_{}_{}_{}_pred.npy\".format(N, N_P, Niterations, runs), data_predators)\n",
    "    return data_rabbits, data_predators"
   ]
  },
  {
   "cell_type": "code",
   "execution_count": 285,
   "metadata": {
    "scrolled": true
   },
   "outputs": [
    {
     "name": "stderr",
     "output_type": "stream",
     "text": [
      "100%|██████████| 50/50 [00:41<00:00,  1.21it/s]\n",
      "100%|██████████| 50/50 [00:41<00:00,  1.21it/s]\n",
      "100%|██████████| 50/50 [00:40<00:00,  1.23it/s]\n",
      "100%|██████████| 50/50 [00:41<00:00,  1.20it/s]\n",
      "100%|██████████| 50/50 [00:42<00:00,  1.18it/s]\n",
      "100%|██████████| 50/50 [00:41<00:00,  1.20it/s]\n",
      "100%|██████████| 50/50 [00:41<00:00,  1.21it/s]\n",
      "100%|██████████| 50/50 [00:41<00:00,  1.19it/s]\n",
      "100%|██████████| 50/50 [00:42<00:00,  1.19it/s]\n",
      "100%|██████████| 50/50 [00:41<00:00,  1.22it/s]\n",
      "100%|██████████| 50/50 [00:41<00:00,  1.21it/s]\n",
      "100%|██████████| 50/50 [00:44<00:00,  1.13it/s]\n",
      "100%|██████████| 50/50 [00:44<00:00,  1.12it/s]\n",
      "100%|██████████| 50/50 [00:43<00:00,  1.15it/s]\n",
      "100%|██████████| 50/50 [00:46<00:00,  1.08it/s]\n",
      "100%|██████████| 50/50 [00:45<00:00,  1.10it/s]\n",
      "100%|██████████| 50/50 [00:44<00:00,  1.13it/s]\n",
      "100%|██████████| 50/50 [00:46<00:00,  1.08it/s]\n",
      "100%|██████████| 50/50 [00:48<00:00,  1.04it/s]\n",
      "100%|██████████| 50/50 [00:45<00:00,  1.10it/s]\n",
      "100%|██████████| 50/50 [00:45<00:00,  1.09it/s]\n",
      "100%|██████████| 50/50 [00:45<00:00,  1.10it/s]\n",
      "100%|██████████| 50/50 [00:43<00:00,  1.15it/s]\n",
      "100%|██████████| 50/50 [00:42<00:00,  1.19it/s]\n",
      "100%|██████████| 50/50 [00:45<00:00,  1.11it/s]\n",
      "100%|██████████| 50/50 [00:43<00:00,  1.15it/s]\n",
      "100%|██████████| 50/50 [00:44<00:00,  1.11it/s]\n",
      "100%|██████████| 50/50 [00:44<00:00,  1.13it/s]\n",
      "100%|██████████| 50/50 [00:42<00:00,  1.17it/s]\n",
      "100%|██████████| 50/50 [00:42<00:00,  1.17it/s]\n",
      "100%|██████████| 50/50 [00:43<00:00,  1.15it/s]\n",
      "100%|██████████| 50/50 [00:44<00:00,  1.13it/s]\n",
      "100%|██████████| 50/50 [00:48<00:00,  1.03it/s]\n",
      "100%|██████████| 50/50 [00:43<00:00,  1.14it/s]\n",
      "100%|██████████| 50/50 [00:43<00:00,  1.16it/s]\n",
      "100%|██████████| 50/50 [00:47<00:00,  1.06it/s]\n",
      "100%|██████████| 50/50 [00:44<00:00,  1.12it/s]\n",
      "100%|██████████| 50/50 [00:48<00:00,  1.04it/s]\n",
      "100%|██████████| 50/50 [00:47<00:00,  1.05it/s]\n",
      "100%|██████████| 50/50 [00:47<00:00,  1.05it/s]\n",
      "100%|██████████| 50/50 [00:47<00:00,  1.06it/s]\n",
      "100%|██████████| 50/50 [00:48<00:00,  1.03it/s]\n",
      "100%|██████████| 50/50 [00:51<00:00,  1.03s/it]\n",
      "100%|██████████| 50/50 [00:50<00:00,  1.01s/it]\n",
      "100%|██████████| 50/50 [00:50<00:00,  1.00s/it]\n",
      "100%|██████████| 50/50 [00:50<00:00,  1.01s/it]\n",
      "100%|██████████| 50/50 [00:49<00:00,  1.01it/s]\n",
      "100%|██████████| 50/50 [00:50<00:00,  1.00s/it]\n",
      "100%|██████████| 50/50 [00:50<00:00,  1.00s/it]\n"
     ]
    }
   ],
   "source": [
    "for i in range(1,N):\n",
    "    np.random.seed(i)\n",
    "    runs(N, i, NVAR, PVAR, Niterations, 50)"
   ]
  },
  {
   "cell_type": "code",
   "execution_count": 287,
   "metadata": {},
   "outputs": [],
   "source": [
    "stds = np.zeros(N-1)\n",
    "means = np.zeros(N-1)\n",
    "for i in range(1,N):\n",
    "    rab = np.load(\"runs/{}_{}_{}_{}_rabbits.npy\".format(N, 1, Niterations, 50))\n",
    "    stds[i-1] = np.std(rab[:,-1,:],ddof=1)\n",
    "    means[i-1] = np.mean(rab[:,-1,:])"
   ]
  },
  {
   "cell_type": "code",
   "execution_count": 288,
   "metadata": {},
   "outputs": [
    {
     "data": {
      "text/plain": [
       "[<matplotlib.lines.Line2D at 0x7fd1684f17c0>]"
      ]
     },
     "execution_count": 288,
     "metadata": {},
     "output_type": "execute_result"
    },
    {
     "data": {
      "image/png": "[encoded data removed]",
      "text/plain": [
       "<Figure size 432x288 with 1 Axes>"
      ]
     },
     "metadata": {
      "needs_background": "light"
     },
     "output_type": "display_data"
    }
   ],
   "source": [
    "plt.plot(np.arange(1,N),stds)"
   ]
  },
  {
   "cell_type": "code",
   "execution_count": 289,
   "metadata": {},
   "outputs": [
    {
     "data": {
      "text/plain": [
       "[<matplotlib.lines.Line2D at 0x7fd1a04c3b50>]"
      ]
     },
     "execution_count": 289,
     "metadata": {},
     "output_type": "execute_result"
    },
    {
     "data": {
      "image/png": "[encoded data removed]",
      "text/plain": [
       "<Figure size 432x288 with 1 Axes>"
      ]
     },
     "metadata": {
      "needs_background": "light"
     },
     "output_type": "display_data"
    }
   ],
   "source": [
    "plt.plot(np.arange(1,N),means)"
   ]
  },
  {
   "cell_type": "code",
   "execution_count": 278,
   "metadata": {},
   "outputs": [
    {
     "name": "stderr",
     "output_type": "stream",
     "text": [
      "100%|██████████| 50/50 [00:42<00:00,  1.19it/s]\n"
     ]
    }
   ],
   "source": [
    "# data_rab, data_pred = runs(N, 1, NVAR, PVAR, Niterations, 50)"
   ]
  },
  {
   "cell_type": "code",
   "execution_count": 290,
   "metadata": {},
   "outputs": [
    {
     "name": "stderr",
     "output_type": "stream",
     "text": [
      "<ipython-input-290-ba8c9e8d2c6f>:13: RuntimeWarning: divide by zero encountered in log\n",
      "  im = ax.imshow(np.log(data),cmap=\"hot\", origin=\"Bottom\", interpolation='none',extent=[bins[0],bins[-1],0,Niterations],aspect=\"auto\")\n"
     ]
    },
    {
     "data": {
      "text/plain": [
       "<matplotlib.colorbar.Colorbar at 0x7fd1845d3be0>"
      ]
     },
     "execution_count": 290,
     "metadata": {},
     "output_type": "execute_result"
    },
    {
     "data": {
      "image/png": "[encoded data removed]",
      "text/plain": [
       "<Figure size 432x432 with 2 Axes>"
      ]
     },
     "metadata": {
      "needs_background": "light"
     },
     "output_type": "display_data"
    }
   ],
   "source": [
    "# Niterations=250\n",
    "rab = np.load(\"runs/{}_{}_{}_{}_rabbits.npy\".format(N, 1, Niterations, 50))\n",
    "pred = np.load(\"runs/{}_{}_{}_{}_pred.npy\".format(N,1, Niterations, 50))\n",
    "\n",
    "binning = 101\n",
    "bins = np.linspace(-2,2,binning+1)\n",
    "data = np.zeros((Niterations, binning))\n",
    "for i in range(Niterations-1):\n",
    "    counts, _ = np.histogram(rab_V[:,i,:],bins=bins)\n",
    "    data[i,:] = counts\n",
    "    \n",
    "fig, ax = plt.subplots(figsize=(6,6))\n",
    "im = ax.imshow(np.log(data),cmap=\"hot\", origin=\"Bottom\", interpolation='none',extent=[bins[0],bins[-1],0,Niterations],aspect=\"auto\")\n",
    "divider = make_axes_locatable(ax)\n",
    "cax = divider.append_axes(\"right\", size=\"5%\", pad=0.05)\n",
    "fig.colorbar(im, cax=cax)"
   ]
  },
  {
   "cell_type": "code",
   "execution_count": 299,
   "metadata": {},
   "outputs": [
    {
     "name": "stderr",
     "output_type": "stream",
     "text": [
      "<ipython-input-299-0314b45bf8c3>:13: RuntimeWarning: divide by zero encountered in log\n",
      "  im = ax.imshow(np.log(data),cmap=\"hot\", origin=\"Bottom\", interpolation='none',extent=[bins[0],bins[-1],0,Niterations],aspect=\"auto\")\n"
     ]
    },
    {
     "data": {
      "text/plain": [
       "<matplotlib.colorbar.Colorbar at 0x7fd168c31370>"
      ]
     },
     "execution_count": 299,
     "metadata": {},
     "output_type": "execute_result"
    },
    {
     "data": {
      "image/png": "[encoded data removed]",
      "text/plain": [
       "<Figure size 432x432 with 2 Axes>"
      ]
     },
     "metadata": {
      "needs_background": "light"
     },
     "output_type": "display_data"
    }
   ],
   "source": [
    "# Niterations=250\n",
    "rab = np.load(\"runs/{}_{}_{}_{}_rabbits.npy\".format(N, 49, Niterations, 50))\n",
    "pred = np.load(\"runs/{}_{}_{}_{}_pred.npy\".format(N,49, Niterations, 50))\n",
    "\n",
    "binning = 101\n",
    "bins = np.linspace(-2,2,binning+1)\n",
    "data = np.zeros((Niterations, binning))\n",
    "for i in range(Niterations-1):\n",
    "    counts, _ = np.histogram(rab_V[:,i,:],bins=bins)\n",
    "    data[i,:] = counts\n",
    "    \n",
    "fig, ax = plt.subplots(figsize=(6,6))\n",
    "im = ax.imshow(np.log(data),cmap=\"hot\", origin=\"Bottom\", interpolation='none',extent=[bins[0],bins[-1],0,Niterations],aspect=\"auto\")\n",
    "divider = make_axes_locatable(ax)\n",
    "cax = divider.append_axes(\"right\", size=\"5%\", pad=0.05)\n",
    "fig.colorbar(im, cax=cax)"
   ]
  },
  {
   "cell_type": "code",
   "execution_count": 291,
   "metadata": {},
   "outputs": [],
   "source": [
    "# rab = np.load(\"runs/{}_{}_{}_{}_rabbits.npy\".format(N, 2, 1000, 50))\n",
    "# pred = np.load(\"runs/{}_{}_{}_{}_pred.npy\".format(N, 2, 1000, 50))\n",
    "# Niterations=1000"
   ]
  },
  {
   "cell_type": "code",
   "execution_count": 292,
   "metadata": {},
   "outputs": [
    {
     "data": {
      "text/plain": [
       "<matplotlib.legend.Legend at 0x7fd16971ec40>"
      ]
     },
     "execution_count": 292,
     "metadata": {},
     "output_type": "execute_result"
    },
    {
     "data": {
      "image/png": "[encoded data removed]",
      "text/plain": [
       "<Figure size 432x288 with 1 Axes>"
      ]
     },
     "metadata": {
      "needs_background": "light"
     },
     "output_type": "display_data"
    }
   ],
   "source": [
    "plt.plot(np.arange(Niterations),rab[1,:,0,0],label=\"X or Y\")\n",
    "plt.plot(np.arange(Niterations),rab[1,:,0,1],label=\"Other\")\n",
    "plt.legend()"
   ]
  },
  {
   "cell_type": "code",
   "execution_count": 293,
   "metadata": {},
   "outputs": [
    {
     "data": {
      "text/plain": [
       "<matplotlib.legend.Legend at 0x7fd169c7b8e0>"
      ]
     },
     "execution_count": 293,
     "metadata": {},
     "output_type": "execute_result"
    },
    {
     "data": {
      "image/png": "[encoded data removed]",
      "text/plain": [
       "<Figure size 432x288 with 1 Axes>"
      ]
     },
     "metadata": {
      "needs_background": "light"
     },
     "output_type": "display_data"
    }
   ],
   "source": [
    "plt.plot(np.arange(Niterations),pred[0,:,0,0],label=\"X or Y\")\n",
    "plt.plot(np.arange(Niterations),pred[0,:,0,1],label=\"Other\")\n",
    "plt.legend()"
   ]
  },
  {
   "cell_type": "code",
   "execution_count": 294,
   "metadata": {},
   "outputs": [
    {
     "data": {
      "text/plain": [
       "array([-1.91602488e+01, -3.60119033e+01, -5.44516128e+00, -1.63694301e+01,\n",
       "       -2.52498307e+01, -1.42569188e+01, -3.02485305e+01, -3.87739125e+01,\n",
       "       -2.39824458e+01, -4.79724418e+01, -9.02127171e+00, -4.26406222e+01,\n",
       "       -8.58614354e+01, -2.39203779e+01, -3.27114389e+01, -4.32559366e+00,\n",
       "       -4.93138866e+00, -7.66580899e+00, -5.84682103e+00, -7.17805261e+01,\n",
       "       -2.23990207e+01, -1.23927285e+01, -4.48754178e+01, -2.23184949e+01,\n",
       "       -6.73738684e+01, -7.07037424e+01, -4.70216673e+01, -1.06792952e+02,\n",
       "       -1.23130310e+02, -2.70963917e+01, -4.23862250e+01, -1.21367778e+02,\n",
       "       -4.39350505e+01, -2.95291709e+01, -1.13617822e+02, -4.42406917e+01,\n",
       "       -3.47561553e+01, -2.79806350e-02, -3.67824252e+01, -7.96928770e+01,\n",
       "       -7.66129807e+01, -8.04121782e+01, -4.18665995e+01, -3.20919913e+01,\n",
       "       -3.77113598e+01, -4.67324026e+01, -8.01712498e+01, -4.44098978e+01,\n",
       "       -7.51352616e+01, -3.51723242e+01, -1.89409279e+01, -1.91562295e+01,\n",
       "       -1.46997559e+01, -2.22550597e+01, -1.16456890e+02, -1.16538239e+02,\n",
       "       -4.18032874e+01, -3.38980373e+01, -1.55818697e+01, -8.62811120e+01,\n",
       "       -1.85979105e+01, -3.50809566e+01, -3.06710986e+00, -4.69231142e+00,\n",
       "       -3.36300728e+01, -5.75126128e+01, -2.41940928e+01, -5.64974897e+01,\n",
       "       -6.81639453e+01, -1.08107137e+01, -9.36677620e+01, -5.11489204e+01,\n",
       "       -6.75373475e+01, -9.95282054e+01, -3.32217189e+01, -3.30951331e+01,\n",
       "       -1.17575794e+02, -6.93828658e+01, -4.66644233e+01, -4.00063307e+01,\n",
       "       -1.20989019e+02, -3.13394925e+01, -2.92742335e+01, -6.58906979e-02,\n",
       "       -3.63346357e+01, -1.14653318e+02, -2.67828750e+01, -2.13161991e+00,\n",
       "       -2.59231297e+00, -7.45780328e+00, -5.06740152e+01, -4.63663185e+01,\n",
       "       -8.68119380e+01, -2.65648991e+01, -4.70445970e+01, -8.22568398e+00,\n",
       "       -2.51679563e+01, -2.64854513e+01, -7.07542570e+00, -3.50321642e+01,\n",
       "       -6.43659523e-01, -3.57272009e+01, -4.37412652e+01, -9.22441248e+01,\n",
       "       -3.02664501e+01, -3.20747757e+01, -2.06507684e+01, -3.06067087e+01,\n",
       "       -1.46992629e-01, -6.44206645e+01, -1.61043826e+01, -2.83108270e+01,\n",
       "       -2.58756162e+00, -8.24462660e+01, -6.22384669e+00, -1.15668661e+01,\n",
       "       -1.59921665e+01, -5.33550604e-01, -4.16646468e-01, -2.36376011e-01,\n",
       "       -4.08078269e+01, -3.14929169e+01, -5.11376604e+01, -2.84573041e+01,\n",
       "       -2.16015433e+01, -3.60171473e+01, -7.33208531e+00, -4.44676554e+00,\n",
       "       -6.68729413e+00, -3.07334584e+01, -3.84112100e+01, -8.26059607e+01,\n",
       "       -3.56707393e+01, -3.52849738e+01, -1.53770268e+01, -8.11901145e+01,\n",
       "       -7.73065599e+01, -3.61079239e+01, -3.23673860e+01, -2.99881286e+01,\n",
       "       -1.83208595e+01, -3.31330832e-01, -5.97090002e+00, -4.63749415e+01,\n",
       "       -4.31125063e+01, -6.49675220e+01, -3.12212588e+01, -2.30486246e+01,\n",
       "       -5.08800797e+01, -7.41460850e+01, -3.48513861e+01, -3.46250968e+01,\n",
       "       -1.05327464e+01, -6.88739215e+01, -7.00308616e+01, -7.82811503e+01,\n",
       "       -2.62592566e+01, -3.78285529e+01, -6.15356289e+01, -3.74615493e+01,\n",
       "       -3.21924680e+01, -7.28374922e+01, -6.34962634e+01, -2.99491173e+01,\n",
       "       -4.54053576e-01, -3.92443471e-01, -3.06913848e-01, -1.02197945e+01,\n",
       "       -1.01757411e+02, -6.74979618e+01, -7.44903753e+01, -3.84725799e+01,\n",
       "       -2.53370290e+01, -6.58015496e+00, -4.10993142e+01, -6.66721364e+01,\n",
       "       -3.89728013e+01, -8.00699033e+00, -4.74550975e+01, -2.84904062e+01,\n",
       "       -2.44937880e+01, -3.56903030e+01, -3.38130029e+01, -5.13714024e+01,\n",
       "       -3.78708450e+01, -3.10573535e+01, -3.08887484e+01, -3.35729787e+01,\n",
       "       -6.62191941e+01, -1.18498256e+02, -1.58297602e+01, -7.65657573e+01,\n",
       "       -3.31555292e+01, -2.39223160e+00, -2.90066914e+01, -5.36007577e+01,\n",
       "       -8.49577937e+01, -6.63762062e+01, -1.09197047e+01, -4.32405973e+00,\n",
       "       -6.61599202e+00, -3.45663216e+01, -6.98626887e+00, -2.74501142e+01,\n",
       "       -4.52500725e+01, -9.72874235e+01, -6.00129365e+01, -1.66827783e+01,\n",
       "       -2.74384490e+01, -2.72834824e+01, -2.09786910e+01, -9.31740484e+01,\n",
       "       -1.28396902e+01, -7.61259118e+01, -2.78445940e+01, -3.89799643e+01,\n",
       "       -7.11806667e+01, -1.61495847e+01, -2.31054995e+01, -3.59534592e+01,\n",
       "       -1.77260187e+01, -3.91468462e+01, -7.77176237e+01, -2.15741671e+01,\n",
       "       -2.93489257e+01, -7.74714230e+01, -2.40714625e+01, -1.16077256e+01,\n",
       "       -7.20471272e+01, -3.30901804e+01, -1.01546079e+01, -1.68354081e+01,\n",
       "       -3.66984313e+00, -6.92301059e+01, -3.82816517e+01, -3.51467758e+01,\n",
       "       -4.86706038e+01, -1.04380123e+02, -3.57726874e+01, -5.63220244e+01,\n",
       "       -7.56408872e+01, -1.25062679e+02, -3.42687226e+01, -8.31190367e+01,\n",
       "       -1.76310739e+01, -5.70745151e+01, -1.32199444e+01, -1.32562251e+01,\n",
       "       -1.40551632e+01, -1.04936726e+02, -4.10011274e+01, -5.26080314e-01,\n",
       "       -5.34113882e-01, -8.73416365e+00, -1.08672264e+01, -5.24952647e+01,\n",
       "       -7.50568818e+01, -3.30032613e+01, -1.01675364e+01, -2.64504222e+01,\n",
       "       -2.90365279e+01, -2.90553362e+01, -9.65568834e+01, -4.27299972e+01,\n",
       "       -3.05164863e+01, -4.37411281e+01, -1.05245936e+01, -3.87445136e+01,\n",
       "       -3.49215923e+01, -7.53025525e+01, -4.04381406e+01, -2.35790605e+01,\n",
       "       -6.07375451e+01, -3.50737638e+01, -6.61845745e+01, -3.31694492e+01,\n",
       "       -3.82287366e+01, -7.85661135e+01, -3.67467760e+01, -3.44883175e+01,\n",
       "       -1.01311041e+02, -5.47995650e+01, -3.29318375e+01, -1.14447394e+01,\n",
       "       -3.03221696e+00, -3.65330335e+00, -1.00490341e+00, -1.13570289e+00,\n",
       "       -5.07512386e+01, -8.17560833e+01, -1.05032653e+02, -1.01921124e+02,\n",
       "       -6.37518560e+01, -5.46840061e+00, -9.93999280e+00, -6.78127188e+00,\n",
       "       -2.48844529e+01, -6.54213612e+01, -3.93679782e+00, -5.54693139e+00,\n",
       "       -1.90940722e+00, -2.06921463e+00, -5.75061368e+01, -7.15944257e+01,\n",
       "       -1.47158043e+01, -9.52767535e+01, -6.02245119e+01, -2.70901712e+01,\n",
       "       -8.92261600e+00, -2.48869178e+01, -9.00486119e+00, -1.03852679e+02,\n",
       "       -7.35295663e+01, -1.60230997e+01, -3.11296624e+01, -6.88887420e+00,\n",
       "       -3.15908634e+01, -5.76199369e+00, -2.66656871e+01, -7.19419453e+01,\n",
       "       -2.87847580e+01, -5.35804637e+01, -8.49282417e+01, -3.17719419e+01,\n",
       "       -6.90663785e-01, -1.57224626e-02, -4.07285633e+01, -6.29196233e+01])"
      ]
     },
     "execution_count": 294,
     "metadata": {},
     "output_type": "execute_result"
    }
   ],
   "source": [
    "pred_r = np.sqrt(pred[:,:,:,0]**2 + pred[:,:,:,1]**2)\n",
    "pred_V = np.diff(pred_r,axis=1)/dt\n",
    "pred_V[pred_V<0]"
   ]
  },
  {
   "cell_type": "code",
   "execution_count": 295,
   "metadata": {},
   "outputs": [
    {
     "data": {
      "text/plain": [
       "(50, 99, 50)"
      ]
     },
     "execution_count": 295,
     "metadata": {},
     "output_type": "execute_result"
    }
   ],
   "source": [
    "rab_r = np.sqrt(rab[:,:,:,0]**2 + rab[:,:,:,1]**2)\n",
    "rab_V = np.diff(rab_r,axis=1)/dt\n",
    "rab_V.shape"
   ]
  },
  {
   "cell_type": "code",
   "execution_count": 296,
   "metadata": {},
   "outputs": [],
   "source": [
    "binning = 51\n",
    "bins = np.linspace(-2,2,binning+1)\n",
    "data = np.zeros((Niterations, binning))\n",
    "for i in range(Niterations-1):\n",
    "    counts, _ = np.histogram(rab_V[:,i,:],bins=bins)\n",
    "    data[i,:] = counts"
   ]
  },
  {
   "cell_type": "code",
   "execution_count": 297,
   "metadata": {},
   "outputs": [
    {
     "name": "stderr",
     "output_type": "stream",
     "text": [
      "<ipython-input-297-461edaf7d546>:2: RuntimeWarning: divide by zero encountered in log\n",
      "  im = ax.imshow(np.log(data[:250,:]),cmap=\"hot\", origin=\"Bottom\", interpolation='none',extent=[bins[0],bins[-1],0,Niterations],aspect=\"auto\")\n"
     ]
    },
    {
     "data": {
      "text/plain": [
       "Text(0.5, 0, 'V bins')"
      ]
     },
     "execution_count": 297,
     "metadata": {},
     "output_type": "execute_result"
    },
    {
     "data": {
      "image/png": "[encoded data removed]",
      "text/plain": [
       "<Figure size 432x432 with 2 Axes>"
      ]
     },
     "metadata": {
      "needs_background": "light"
     },
     "output_type": "display_data"
    }
   ],
   "source": [
    "fig, ax = plt.subplots(figsize=(6,6))\n",
    "im = ax.imshow(np.log(data[:250,:]),cmap=\"hot\", origin=\"Bottom\", interpolation='none',extent=[bins[0],bins[-1],0,Niterations],aspect=\"auto\")\n",
    "divider = make_axes_locatable(ax)\n",
    "cax = divider.append_axes(\"right\", size=\"5%\", pad=0.05)\n",
    "fig.colorbar(im, cax=cax)\n",
    "ax.set_ylabel(\"Niterations\")\n",
    "ax.set_xlabel(\"V bins\")"
   ]
  },
  {
   "cell_type": "code",
   "execution_count": null,
   "metadata": {},
   "outputs": [],
   "source": []
  }
 ],
 "metadata": {
  "kernelspec": {
   "display_name": "Python 3",
   "language": "python",
   "name": "python3"
  },
  "language_info": {
   "codemirror_mode": {
    "name": "ipython",
    "version": 3
   },
   "file_extension": ".py",
   "mimetype": "text/x-python",
   "name": "python",
   "nbconvert_exporter": "python",
   "pygments_lexer": "ipython3",
   "version": "3.8.3"
  }
 },
 "nbformat": 4,
 "nbformat_minor": 4
}
